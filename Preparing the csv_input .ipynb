{
 "cells": [
  {
   "cell_type": "code",
   "execution_count": 1,
   "metadata": {},
   "outputs": [],
   "source": [
    "import pandas as pd \n",
    "import numpy as np\n",
    "import os"
   ]
  },
  {
   "cell_type": "code",
   "execution_count": 7,
   "metadata": {},
   "outputs": [],
   "source": [
    "# directory where the audio samples are stored (root directory)\n",
    "root_path                    = \"./audio/\""
   ]
  },
  {
   "cell_type": "code",
   "execution_count": 23,
   "metadata": {},
   "outputs": [
    {
     "name": "stdout",
     "output_type": "stream",
     "text": [
      "72307 number of audio samples \n"
     ]
    }
   ],
   "source": [
    "sample_fullpaths = []\n",
    "sample_track_ids = []\n",
    "\n",
    "for root, dirs, files in os.walk(root_path):\n",
    "    for file in files:\n",
    "        if file.endswith(\".mp3\"):\n",
    "            sample_fullpaths.append(os.path.join(root, file))\n",
    "            sample_track_ids.append(file.replace(\".mp3\", \"\"))\n",
    "\n",
    "metadata_audio          = pd.DataFrame(sample_fullpaths, index=sample_track_ids, columns=[\"filename\"])\n",
    "\n",
    "print(\"%d number of audio samples \" % metadata_audio.shape[0])"
   ]
  },
  {
   "cell_type": "code",
   "execution_count": 24,
   "metadata": {},
   "outputs": [
    {
     "data": {
      "text/html": [
       "<div>\n",
       "<style scoped>\n",
       "    .dataframe tbody tr th:only-of-type {\n",
       "        vertical-align: middle;\n",
       "    }\n",
       "\n",
       "    .dataframe tbody tr th {\n",
       "        vertical-align: top;\n",
       "    }\n",
       "\n",
       "    .dataframe thead th {\n",
       "        text-align: right;\n",
       "    }\n",
       "</style>\n",
       "<table border=\"1\" class=\"dataframe\">\n",
       "  <thead>\n",
       "    <tr style=\"text-align: right;\">\n",
       "      <th></th>\n",
       "      <th>filename</th>\n",
       "    </tr>\n",
       "  </thead>\n",
       "  <tbody>\n",
       "    <tr>\n",
       "      <td>XC100976</td>\n",
       "      <td>./audio/Acanthis flammea_Common Redpoll\\XC1009...</td>\n",
       "    </tr>\n",
       "    <tr>\n",
       "      <td>XC107048</td>\n",
       "      <td>./audio/Acanthis flammea_Common Redpoll\\XC1070...</td>\n",
       "    </tr>\n",
       "    <tr>\n",
       "      <td>XC111873</td>\n",
       "      <td>./audio/Acanthis flammea_Common Redpoll\\XC1118...</td>\n",
       "    </tr>\n",
       "    <tr>\n",
       "      <td>XC112447</td>\n",
       "      <td>./audio/Acanthis flammea_Common Redpoll\\XC1124...</td>\n",
       "    </tr>\n",
       "    <tr>\n",
       "      <td>XC113480</td>\n",
       "      <td>./audio/Acanthis flammea_Common Redpoll\\XC1134...</td>\n",
       "    </tr>\n",
       "    <tr>\n",
       "      <td>...</td>\n",
       "      <td>...</td>\n",
       "    </tr>\n",
       "    <tr>\n",
       "      <td>XC483995</td>\n",
       "      <td>./audio/Zonotrichia leucophrys_White-crowned S...</td>\n",
       "    </tr>\n",
       "    <tr>\n",
       "      <td>XC486018</td>\n",
       "      <td>./audio/Zonotrichia leucophrys_White-crowned S...</td>\n",
       "    </tr>\n",
       "    <tr>\n",
       "      <td>XC66173</td>\n",
       "      <td>./audio/Zonotrichia leucophrys_White-crowned S...</td>\n",
       "    </tr>\n",
       "    <tr>\n",
       "      <td>XC70488</td>\n",
       "      <td>./audio/Zonotrichia leucophrys_White-crowned S...</td>\n",
       "    </tr>\n",
       "    <tr>\n",
       "      <td>XC70498</td>\n",
       "      <td>./audio/Zonotrichia leucophrys_White-crowned S...</td>\n",
       "    </tr>\n",
       "  </tbody>\n",
       "</table>\n",
       "<p>72307 rows × 1 columns</p>\n",
       "</div>"
      ],
      "text/plain": [
       "                                                   filename\n",
       "XC100976  ./audio/Acanthis flammea_Common Redpoll\\XC1009...\n",
       "XC107048  ./audio/Acanthis flammea_Common Redpoll\\XC1070...\n",
       "XC111873  ./audio/Acanthis flammea_Common Redpoll\\XC1118...\n",
       "XC112447  ./audio/Acanthis flammea_Common Redpoll\\XC1124...\n",
       "XC113480  ./audio/Acanthis flammea_Common Redpoll\\XC1134...\n",
       "...                                                     ...\n",
       "XC483995  ./audio/Zonotrichia leucophrys_White-crowned S...\n",
       "XC486018  ./audio/Zonotrichia leucophrys_White-crowned S...\n",
       "XC66173   ./audio/Zonotrichia leucophrys_White-crowned S...\n",
       "XC70488   ./audio/Zonotrichia leucophrys_White-crowned S...\n",
       "XC70498   ./audio/Zonotrichia leucophrys_White-crowned S...\n",
       "\n",
       "[72307 rows x 1 columns]"
      ]
     },
     "execution_count": 24,
     "metadata": {},
     "output_type": "execute_result"
    }
   ],
   "source": [
    "metadata_audio"
   ]
  }
 ],
 "metadata": {
  "kernelspec": {
   "display_name": "Python 3",
   "language": "python",
   "name": "python3"
  },
  "language_info": {
   "codemirror_mode": {
    "name": "ipython",
    "version": 3
   },
   "file_extension": ".py",
   "mimetype": "text/x-python",
   "name": "python",
   "nbconvert_exporter": "python",
   "pygments_lexer": "ipython3",
   "version": "3.7.4"
  }
 },
 "nbformat": 4,
 "nbformat_minor": 2
}
