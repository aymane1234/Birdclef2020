{
 "cells": [
  {
   "cell_type": "markdown",
   "metadata": {
    "Collapsed": "false"
   },
   "source": [
    "# Configuration"
   ]
  },
  {
   "cell_type": "code",
   "execution_count": null,
   "metadata": {
    "Collapsed": "false"
   },
   "outputs": [],
   "source": [
    "config = [\n",
    "    \n",
    "# General Processing Parameters\n",
    "# =============================\n",
    "    \n",
    "# Path to trackid partition file.\n",
    "'--tidfile', \"./files_to_extract_HPC1.csv\", \n",
    "\n",
    "# Path to directory to store intermediate features\n",
    "\"--dst\", \"/home/schindlera/sshfs/spark_master_schindlera/MSD/melspec_128_10seconds_2ch/\",\n",
    "\n",
    "\"--workers\",   \"12\", # Number of processes for feature extraction.\n",
    "\"--precision\", \"32\", # Store features with 16bit or 32bit precision\n",
    "    \n",
    "\"--crop\",            # Crop longer audio files (comment/uncomment)\n",
    "\"--pad\",             # Zero-pad shorter audio files (comment/uncomment)\n",
    "\"--skip\",            # Skip if feature files already exist. (comment/uncomment)\n",
    "#\"--test\"             # Development parameter. Only process one file (comment/uncomment)\n",
    "    \n",
    "\n",
    "# Audio Extraction (FFT, Mel Filter) Parameters\n",
    "# =============================================\n",
    "    \n",
    "\"--samplerate\",  \"22050\",  # samplerate\n",
    "\"--nfft\",        \"1024\",   # FFt window length\n",
    "\"--hoplength\",   \"256\",    # FFT hop-length\n",
    "\"--mels\",        \"128\",    # number of Mel Filters\n",
    "#\"--fmax\",        \"\",       # Max Frequency\n",
    "#\"--fmin\",        \"0.0\",    # Min Frequency\n",
    "#\"--mono\",                  # Convert to single channel audio\n",
    "\n",
    "\"--length_sec\",  \"11\",     # length of audio segment (in seconds)\n",
    "\"--offset_sec\",  \"3\",      # offset from audiofile start (in seconds)\n",
    "\"--length_frames\", \"880\"   # final length of extracted segment (in dimensions / number of frames)\n",
    "    \n",
    "]"
   ]
  },
  {
   "cell_type": "markdown",
   "metadata": {
    "Collapsed": "false"
   },
   "source": [
    "# Imports"
   ]
  },
  {
   "cell_type": "code",
   "execution_count": null,
   "metadata": {
    "Collapsed": "false"
   },
   "outputs": [],
   "source": [
    "from multiprocessing import Pool\n",
    "import pandas as pd\n",
    "import librosa\n",
    "import audioread\n",
    "import os\n",
    "import sys\n",
    "import numpy as np\n",
    "from tqdm.auto import tqdm\n",
    "import traceback\n",
    "import warnings\n",
    "import argparse\n",
    "import logging"
   ]
  },
  {
   "cell_type": "markdown",
   "metadata": {
    "Collapsed": "false"
   },
   "source": [
    "Parse Configuration"
   ]
  },
  {
   "cell_type": "code",
   "execution_count": null,
   "metadata": {
    "Collapsed": "false"
   },
   "outputs": [],
   "source": [
    "parser = argparse.ArgumentParser()\n",
    "\n",
    "parser.add_argument('--tidfile',    help=\"Path to trackid partition file.\",                  type=str)\n",
    "parser.add_argument('--dst',        help=\"Path to directory to store intermediate features\", type=str)\n",
    "parser.add_argument('--workers',    help=\"Number of processes for feature extraction.\",      type=int)\n",
    "parser.add_argument('--crop',       help=\"Crop longer audio files\",                          action='store_true')\n",
    "parser.add_argument('--pad',        help=\"Zero-pad shorter audio files\",                     action='store_true')\n",
    "parser.add_argument('--skip',       help=\"Skip if feature files already exist.\",             action='store_true')\n",
    "parser.add_argument('--precision',  help=\"Store features with 16bit or 32bit precision\",     type=int, default=32)\n",
    "parser.add_argument(\"--log-level\",  help=\"Configure the logging level.\",                     default=logging.DEBUG, type=lambda x: getattr(logging, x))\n",
    "parser.add_argument('--test',       help=\"Development parameter. Only process one file\",     action='store_true')\n",
    "\n",
    "parser.add_argument(\"--samplerate\",    help=\"Audio Samplerate (for resampling)\",             type=int, default=44100)\n",
    "parser.add_argument(\"--nfft\",          help=\"FFT window length\",                             type=int, default=1024)\n",
    "parser.add_argument(\"--hoplength\",     help=\"FFT hop-length\",                                type=int, default=512)\n",
    "parser.add_argument(\"--mels\",          help=\"number of Mel Filters\",                         type=int, default=80)\n",
    "parser.add_argument(\"--fmax\",          help=\"Max Frequency\",                                 type=int, default=None)\n",
    "parser.add_argument(\"--fmin\",          help=\"Min Frequency\",                                 type=float, default=0.0)\n",
    "parser.add_argument(\"--mono\",          help=\"Convert to single channel audio\",               action='store_true')\n",
    "parser.add_argument(\"--length_sec\",    help=\"length of audio segment (in seconds)\",          type=int)\n",
    "parser.add_argument(\"--offset_sec\",    help=\"offset from audiofile start (in seconds)\",      type=int)\n",
    "parser.add_argument(\"--length_frames\", help=\"final length of extracted segment (in dimensions / number of frames)\", type=int)\n",
    "\n",
    "\n",
    "if sys.argv[0].find(\"ipykernel_launcher\") != -1:\n",
    "    args = parser.parse_args(config)\n",
    "else:\n",
    "    args = parser.parse_args()\n",
    "                          "
   ]
  },
  {
   "cell_type": "markdown",
   "metadata": {
    "Collapsed": "false"
   },
   "source": [
    "Lib configuration"
   ]
  },
  {
   "cell_type": "code",
   "execution_count": null,
   "metadata": {
    "Collapsed": "false"
   },
   "outputs": [],
   "source": [
    "warnings.filterwarnings('ignore')\n",
    "\n",
    "\n",
    "logging.basicConfig(format='%(asctime)s %(levelname)s: %(message)s', level=logging.DEBUG, datefmt='%Y-%m-%d %H:%M:%S')\n",
    "logging.basicConfig(level=args.log_level)"
   ]
  },
  {
   "cell_type": "markdown",
   "metadata": {
    "Collapsed": "false"
   },
   "source": [
    "# Methods"
   ]
  },
  {
   "cell_type": "code",
   "execution_count": null,
   "metadata": {
    "Collapsed": "false"
   },
   "outputs": [],
   "source": [
    "def extract_melspec(y, sample_rate):\n",
    "\n",
    "    mel_spec = librosa.feature.melspectrogram(y          = y, \n",
    "                                              sr         = args.samplerate, \n",
    "                                              n_fft      = args.nfft, \n",
    "                                              hop_length = args.hoplength, \n",
    "                                              n_mels     = args.mels,\n",
    "                                              fmin       = args.fmin,\n",
    "                                              fmax       = args.fmax)\n",
    "\n",
    "    mel_spec = librosa.core.power_to_db(mel_spec, ref=np.max)\n",
    "    \n",
    "    return mel_spec\n",
    "\n",
    "\n",
    "\n",
    "def extract(track_id, f_name):\n",
    "    \n",
    "    dst_fname = args.dst + \"/\" + track_id + \".npz\"\n",
    "    success   = False\n",
    "    msg       = None\n",
    "    \n",
    "    if not (args.skip and os.path.exists(dst_fname)):\n",
    "\n",
    "        try:\n",
    "                                \n",
    "            wave_data, sample_rate = librosa.core.load(f_name, \n",
    "                                                       sr       = args.samplerate, \n",
    "                                                       mono     = args.mono)\n",
    "                                                       \n",
    "                                                       \n",
    "            if not args.mono and (len(wave_data.shape) != 2):\n",
    "                wave_data = np.asarray([wave_data,wave_data])\n",
    "                \n",
    "            \n",
    "            \n",
    "            start  = args.offset_sec * sample_rate\n",
    "            length = sample_rate * args.length_sec\n",
    "            end    = start + length\n",
    "            \n",
    "            if args.mono:\n",
    "            \n",
    "                if (wave_data.shape[0] > end):\n",
    "                    wave_data = wave_data[start:end]\n",
    "                else:\n",
    "                    wave_data = wave_data[:length]\n",
    "                    \n",
    "            else:\n",
    "            \n",
    "                if (wave_data.shape[1] > end):\n",
    "                    wave_data = wave_data[:,start:end]\n",
    "                else:\n",
    "                    wave_data = wave_data[:,:length]\n",
    "                \n",
    "\n",
    "            if args.mono:\n",
    "                \n",
    "                mel_spec = extract_melspec(np.asfortranarray(wave_data), sample_rate) \n",
    "                \n",
    "                if args.crop:\n",
    "                    mel_spec = mel_spec[:,:args.length_frames]\n",
    "                mel_spec = np.expand_dims(mel_spec, 2)\n",
    "                                                \n",
    "            else:\n",
    "                \n",
    "                mel_spec_ch1 = extract_melspec(np.asfortranarray(wave_data[0,:]), sample_rate)\n",
    "                mel_spec_ch2 = extract_melspec(np.asfortranarray(wave_data[1,:]), sample_rate)\n",
    "                \n",
    "                if args.crop:\n",
    "                    mel_spec_ch1 = mel_spec_ch1[:,:args.length_frames]\n",
    "                    mel_spec_ch2 = mel_spec_ch2[:,:args.length_frames]\n",
    "                \n",
    "                mel_spec_ch1 = np.expand_dims(mel_spec_ch1, 2)\n",
    "                mel_spec_ch2 = np.expand_dims(mel_spec_ch2, 2)\n",
    "                \n",
    "                mel_spec = np.concatenate([mel_spec_ch1, mel_spec_ch2], axis=2)\n",
    "\n",
    "            \n",
    "            if (args.pad) and (mel_spec.shape[1] < args.length_frames):\n",
    "                                \n",
    "                zeros = np.zeros((mel_spec.shape[0],SEG_DIM,mel_spec.shape[2]), dtype=np.float32)\n",
    "                zeros[:mel_spec.shape[0], :mel_spec.shape[1], :mel_spec.shape[2]] = mel_spec\n",
    "                    \n",
    "                mel_spec = zeros            \n",
    "            \n",
    "            \n",
    "            if args.precision == 16:\n",
    "                mel_spec = mel_spec.astype(np.float32)\n",
    "            elif args.precision == 16:\n",
    "                mel_spec = mel_spec.astype(np.float16)\n",
    "            \n",
    "            np.savez(dst_fname, data=mel_spec)\n",
    "            \n",
    "            success = True\n",
    "            \n",
    "        except Exception as e:\n",
    "            msg = e.msg\n",
    "            \n",
    "    else:\n",
    "        # skip\n",
    "        success   = True\n",
    "        msg       = \"skip\"\n",
    "\n",
    "    return track_id, success, msg"
   ]
  },
  {
   "cell_type": "markdown",
   "metadata": {
    "Collapsed": "false"
   },
   "source": [
    "# Run Feature Extraction"
   ]
  },
  {
   "cell_type": "code",
   "execution_count": null,
   "metadata": {
    "Collapsed": "false"
   },
   "outputs": [],
   "source": [
    "# read partition file\n",
    "audiofile_metadata         = pd.read_csv(args.tidfile, header=None)\n",
    "audiofile_metadata.columns = [\"track_id\", \"filename\"]"
   ]
  },
  {
   "cell_type": "code",
   "execution_count": null,
   "metadata": {
    "Collapsed": "false"
   },
   "outputs": [],
   "source": [
    "# create process pool\n",
    "pool = Pool(args.workers)\n",
    "\n",
    "results = []\n",
    "\n",
    "if not args.test:\n",
    "    pbar = tqdm(total=audiofile_metadata.shape[0])\n",
    "else:\n",
    "    pbar = tqdm(total=10)\n",
    "\n",
    "def update(*a):\n",
    "    pbar.update()\n",
    "    results.append(a[0])\n",
    "    \n",
    "for i in range(pbar.total):\n",
    "    pool.apply_async(extract, args=(audiofile_metadata.iloc[i].track_id, \n",
    "                                    audiofile_metadata.iloc[i].filename,), callback=update)\n",
    "    \n",
    "pool.close()\n",
    "pool.join()"
   ]
  },
  {
   "cell_type": "code",
   "execution_count": null,
   "metadata": {
    "Collapsed": "false"
   },
   "outputs": [],
   "source": [
    "results = pd.DataFrame(results, columns=[\"trackid\", \"success\", \"error_msg\"])\n",
    "results = results.set_index(\"trackid\")\n",
    "results.to_csv(args.tidfile + \".melspec_extract.log.csv\")\n",
    "\n",
    "print(\"Mel-Spectrograms sucessfully extracted : %d \" % results[results.success].shape[0])\n",
    "print(\"Audio files failed to process          : %d \" % (audiofile_metadata.shape[0] -results[results.success].shape[0]))"
   ]
  }
 ],
 "metadata": {
  "kernelspec": {
   "display_name": "base36",
   "language": "python",
   "name": "base36"
  },
  "language_info": {
   "codemirror_mode": {
    "name": "ipython",
    "version": 3
   },
   "file_extension": ".py",
   "mimetype": "text/x-python",
   "name": "python",
   "nbconvert_exporter": "python",
   "pygments_lexer": "ipython3",
   "version": "3.6.10"
  }
 },
 "nbformat": 4,
 "nbformat_minor": 4
}
