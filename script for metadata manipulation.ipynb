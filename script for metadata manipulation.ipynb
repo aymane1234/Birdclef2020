{
 "cells": [
  {
   "cell_type": "code",
   "execution_count": 283,
   "metadata": {},
   "outputs": [],
   "source": [
    "import json\n",
    "import os\n",
    "import pandas as pd\n",
    "from pandas import DataFrame \n",
    "import glob\n",
    "import numpy as np "
   ]
  },
  {
   "cell_type": "markdown",
   "metadata": {},
   "source": [
    "# Do it for one specie folder common"
   ]
  },
  {
   "cell_type": "code",
   "execution_count": 305,
   "metadata": {},
   "outputs": [],
   "source": [
    "Json_fpath = \"./metadata/Acanthis flammea_Common Redpoll/\"\n",
    "Json_files = os.listdir(Json_fpath)"
   ]
  },
  {
   "cell_type": "code",
   "execution_count": 306,
   "metadata": {},
   "outputs": [
    {
     "data": {
      "text/plain": [
       "100"
      ]
     },
     "execution_count": 306,
     "metadata": {},
     "output_type": "execute_result"
    }
   ],
   "source": [
    "len(Json_files)"
   ]
  },
  {
   "cell_type": "code",
   "execution_count": 307,
   "metadata": {},
   "outputs": [],
   "source": [
    "file_1 = []\n",
    "for i in range(0,len(Json_files)-1):\n",
    "    fil = glob.glob(os.path.join(Json_fpath, Json_files[i]))\n",
    "    file_1.append(fil)"
   ]
  },
  {
   "cell_type": "code",
   "execution_count": 308,
   "metadata": {},
   "outputs": [],
   "source": [
    "def listToString(s):  \n",
    "    \n",
    "    # initialize an empty string \n",
    "    str1 = \"\"  \n",
    "    \n",
    "    # traverse in the string   \n",
    "    for ele in s:  \n",
    "        str1 += ele   \n",
    "    \n",
    "    # return string   \n",
    "    return str1  "
   ]
  },
  {
   "cell_type": "code",
   "execution_count": 309,
   "metadata": {},
   "outputs": [],
   "source": [
    "alp = []\n",
    "for i in range(0,len(file_1)):\n",
    "    fi = listToString(file_1[i])\n",
    "    alp.append(fi)\n",
    "###this just to get array of paths     "
   ]
  },
  {
   "cell_type": "code",
   "execution_count": 310,
   "metadata": {},
   "outputs": [
    {
     "data": {
      "text/plain": [
       "99"
      ]
     },
     "execution_count": 310,
     "metadata": {},
     "output_type": "execute_result"
    }
   ],
   "source": [
    "len(alp)"
   ]
  },
  {
   "cell_type": "code",
   "execution_count": 311,
   "metadata": {},
   "outputs": [
    {
     "data": {
      "text/plain": [
       "Index(['author', 'background', 'bird_seen', 'bitrate of mp3', 'channels',\n",
       "       'country', 'date', 'description', 'duration', 'ebird code', 'elevation',\n",
       "       'file type', 'filename', 'latitude', 'length', 'location', 'longitude',\n",
       "       'number of notes', 'pitch', 'playback_used', 'primary label', 'rating',\n",
       "       'recordist', 'sampling rate', 'sci-name', 'secondary labels', 'species',\n",
       "       'speed', 'time', 'title', 'type', 'url', 'volume', 'xc_id'],\n",
       "      dtype='object')"
      ]
     },
     "execution_count": 311,
     "metadata": {},
     "output_type": "execute_result"
    }
   ],
   "source": [
    "data_final.columns"
   ]
  },
  {
   "cell_type": "code",
   "execution_count": 312,
   "metadata": {},
   "outputs": [],
   "source": [
    "news = []\n",
    "for cv in alp:\n",
    "    with open(cv, 'r') as myfile:\n",
    "        data=myfile.read()\n",
    "        new = json.loads(data)\n",
    "        news.append(new) "
   ]
  },
  {
   "cell_type": "code",
   "execution_count": 313,
   "metadata": {},
   "outputs": [
    {
     "name": "stderr",
     "output_type": "stream",
     "text": [
      "C:\\Users\\Aymane\\AppData\\Local\\Continuum\\anaconda3\\lib\\site-packages\\ipykernel_launcher.py:5: FutureWarning: Sorting because non-concatenation axis is not aligned. A future version\n",
      "of pandas will change to not sort by default.\n",
      "\n",
      "To accept the future behavior, pass 'sort=False'.\n",
      "\n",
      "To retain the current behavior and silence the warning, pass 'sort=True'.\n",
      "\n",
      "  \"\"\"\n"
     ]
    }
   ],
   "source": [
    "list_data = []\n",
    "for dictiona in news:\n",
    "    df = pd.DataFrame.from_dict(dictiona, orient='index').T\n",
    "    list_data.append(df)\n",
    "    data = pd.concat(list_data,axis = 0)"
   ]
  },
  {
   "cell_type": "code",
   "execution_count": 315,
   "metadata": {},
   "outputs": [
    {
     "data": {
      "text/html": [
       "<div>\n",
       "<style scoped>\n",
       "    .dataframe tbody tr th:only-of-type {\n",
       "        vertical-align: middle;\n",
       "    }\n",
       "\n",
       "    .dataframe tbody tr th {\n",
       "        vertical-align: top;\n",
       "    }\n",
       "\n",
       "    .dataframe thead th {\n",
       "        text-align: right;\n",
       "    }\n",
       "</style>\n",
       "<table border=\"1\" class=\"dataframe\">\n",
       "  <thead>\n",
       "    <tr style=\"text-align: right;\">\n",
       "      <th></th>\n",
       "      <th>author</th>\n",
       "      <th>background</th>\n",
       "      <th>bird_seen</th>\n",
       "      <th>bitrate of mp3</th>\n",
       "      <th>channels</th>\n",
       "      <th>country</th>\n",
       "      <th>date</th>\n",
       "      <th>description</th>\n",
       "      <th>duration</th>\n",
       "      <th>ebird code</th>\n",
       "      <th>...</th>\n",
       "      <th>sci-name</th>\n",
       "      <th>secondary labels</th>\n",
       "      <th>species</th>\n",
       "      <th>speed</th>\n",
       "      <th>time</th>\n",
       "      <th>title</th>\n",
       "      <th>type</th>\n",
       "      <th>url</th>\n",
       "      <th>volume</th>\n",
       "      <th>xc_id</th>\n",
       "    </tr>\n",
       "  </thead>\n",
       "  <tbody>\n",
       "    <tr>\n",
       "      <td>0</td>\n",
       "      <td>Tony Whitehead</td>\n",
       "      <td></td>\n",
       "      <td>NaN</td>\n",
       "      <td>192000 (bps)</td>\n",
       "      <td>2 (stereo)</td>\n",
       "      <td>United Kingdom</td>\n",
       "      <td>2012-05-13</td>\n",
       "      <td></td>\n",
       "      <td>33</td>\n",
       "      <td>comred</td>\n",
       "      <td>...</td>\n",
       "      <td>Acanthis flammea</td>\n",
       "      <td>[]</td>\n",
       "      <td>Common Redpoll</td>\n",
       "      <td>Not specified</td>\n",
       "      <td>7:15am</td>\n",
       "      <td>XC100976 Common Redpoll (Acanthis flammea)</td>\n",
       "      <td>call, song</td>\n",
       "      <td>https://www.xeno-canto.org/100976</td>\n",
       "      <td>Not specified</td>\n",
       "      <td>100976</td>\n",
       "    </tr>\n",
       "    <tr>\n",
       "      <td>0</td>\n",
       "      <td>Patrik Åberg</td>\n",
       "      <td></td>\n",
       "      <td>NaN</td>\n",
       "      <td>320000 (bps)</td>\n",
       "      <td>2 (stereo)</td>\n",
       "      <td>Sweden</td>\n",
       "      <td>2011-06-21</td>\n",
       "      <td></td>\n",
       "      <td>48</td>\n",
       "      <td>comred</td>\n",
       "      <td>...</td>\n",
       "      <td>Acanthis flammea</td>\n",
       "      <td>[]</td>\n",
       "      <td>Common Redpoll</td>\n",
       "      <td>Not specified</td>\n",
       "      <td>10:55</td>\n",
       "      <td>XC107048 Common Redpoll (Acanthis flammea)</td>\n",
       "      <td>Call</td>\n",
       "      <td>https://www.xeno-canto.org/107048</td>\n",
       "      <td>Not specified</td>\n",
       "      <td>107048</td>\n",
       "    </tr>\n",
       "    <tr>\n",
       "      <td>0</td>\n",
       "      <td>Alan dalton</td>\n",
       "      <td></td>\n",
       "      <td>NaN</td>\n",
       "      <td>128000 (bps)</td>\n",
       "      <td>2 (stereo)</td>\n",
       "      <td>Sweden</td>\n",
       "      <td>2012-10-22</td>\n",
       "      <td>Calls from migrating flock of 20 birds...</td>\n",
       "      <td>5</td>\n",
       "      <td>comred</td>\n",
       "      <td>...</td>\n",
       "      <td>Acanthis flammea</td>\n",
       "      <td>[]</td>\n",
       "      <td>Common Redpoll</td>\n",
       "      <td>Not specified</td>\n",
       "      <td>10.22am</td>\n",
       "      <td>XC111873 Common Redpoll (Acanthis flammea)</td>\n",
       "      <td>call</td>\n",
       "      <td>https://www.xeno-canto.org/111873</td>\n",
       "      <td>Not specified</td>\n",
       "      <td>111873</td>\n",
       "    </tr>\n",
       "    <tr>\n",
       "      <td>0</td>\n",
       "      <td>Sander Bot</td>\n",
       "      <td></td>\n",
       "      <td>yes</td>\n",
       "      <td>128000 (bps)</td>\n",
       "      <td>2 (stereo)</td>\n",
       "      <td>Netherlands</td>\n",
       "      <td>2012-10-15</td>\n",
       "      <td>Subspecies unknown.</td>\n",
       "      <td>3</td>\n",
       "      <td>comred</td>\n",
       "      <td>...</td>\n",
       "      <td>Acanthis flammea</td>\n",
       "      <td>[]</td>\n",
       "      <td>Common Redpoll</td>\n",
       "      <td>Not specified</td>\n",
       "      <td>15:30</td>\n",
       "      <td>XC112447 Common Redpoll (Acanthis flammea)</td>\n",
       "      <td>flight call</td>\n",
       "      <td>https://www.xeno-canto.org/112447</td>\n",
       "      <td>Not specified</td>\n",
       "      <td>112447</td>\n",
       "    </tr>\n",
       "    <tr>\n",
       "      <td>0</td>\n",
       "      <td>Martin St-Michel</td>\n",
       "      <td></td>\n",
       "      <td>yes</td>\n",
       "      <td>128000 (bps)</td>\n",
       "      <td>2 (stereo)</td>\n",
       "      <td>Canada</td>\n",
       "      <td>2012-11-25</td>\n",
       "      <td>One small flock calling in flight and one male...</td>\n",
       "      <td>27</td>\n",
       "      <td>comred</td>\n",
       "      <td>...</td>\n",
       "      <td>Acanthis flammea</td>\n",
       "      <td>[]</td>\n",
       "      <td>Common Redpoll</td>\n",
       "      <td>level</td>\n",
       "      <td>09:21</td>\n",
       "      <td>XC113480 Common Redpoll (Acanthis flammea)</td>\n",
       "      <td>call, flight call, male</td>\n",
       "      <td>https://www.xeno-canto.org/113480</td>\n",
       "      <td>level</td>\n",
       "      <td>113480</td>\n",
       "    </tr>\n",
       "  </tbody>\n",
       "</table>\n",
       "<p>5 rows × 34 columns</p>\n",
       "</div>"
      ],
      "text/plain": [
       "             author background bird_seen bitrate of mp3    channels  \\\n",
       "0    Tony Whitehead                  NaN   192000 (bps)  2 (stereo)   \n",
       "0      Patrik Åberg                  NaN   320000 (bps)  2 (stereo)   \n",
       "0       Alan dalton                  NaN   128000 (bps)  2 (stereo)   \n",
       "0        Sander Bot                  yes   128000 (bps)  2 (stereo)   \n",
       "0  Martin St-Michel                  yes   128000 (bps)  2 (stereo)   \n",
       "\n",
       "          country        date  \\\n",
       "0  United Kingdom  2012-05-13   \n",
       "0          Sweden  2011-06-21   \n",
       "0          Sweden  2012-10-22   \n",
       "0     Netherlands  2012-10-15   \n",
       "0          Canada  2012-11-25   \n",
       "\n",
       "                                         description duration ebird code  ...  \\\n",
       "0                                                          33     comred  ...   \n",
       "0                                                          48     comred  ...   \n",
       "0          Calls from migrating flock of 20 birds...        5     comred  ...   \n",
       "0                                Subspecies unknown.        3     comred  ...   \n",
       "0  One small flock calling in flight and one male...       27     comred  ...   \n",
       "\n",
       "           sci-name secondary labels         species          speed     time  \\\n",
       "0  Acanthis flammea               []  Common Redpoll  Not specified   7:15am   \n",
       "0  Acanthis flammea               []  Common Redpoll  Not specified    10:55   \n",
       "0  Acanthis flammea               []  Common Redpoll  Not specified  10.22am   \n",
       "0  Acanthis flammea               []  Common Redpoll  Not specified    15:30   \n",
       "0  Acanthis flammea               []  Common Redpoll          level    09:21   \n",
       "\n",
       "                                        title                     type  \\\n",
       "0  XC100976 Common Redpoll (Acanthis flammea)               call, song   \n",
       "0  XC107048 Common Redpoll (Acanthis flammea)                     Call   \n",
       "0  XC111873 Common Redpoll (Acanthis flammea)                     call   \n",
       "0  XC112447 Common Redpoll (Acanthis flammea)              flight call   \n",
       "0  XC113480 Common Redpoll (Acanthis flammea)  call, flight call, male   \n",
       "\n",
       "                                 url         volume   xc_id  \n",
       "0  https://www.xeno-canto.org/100976  Not specified  100976  \n",
       "0  https://www.xeno-canto.org/107048  Not specified  107048  \n",
       "0  https://www.xeno-canto.org/111873  Not specified  111873  \n",
       "0  https://www.xeno-canto.org/112447  Not specified  112447  \n",
       "0  https://www.xeno-canto.org/113480          level  113480  \n",
       "\n",
       "[5 rows x 34 columns]"
      ]
     },
     "execution_count": 315,
     "metadata": {},
     "output_type": "execute_result"
    }
   ],
   "source": [
    "data.head()"
   ]
  },
  {
   "cell_type": "code",
   "execution_count": 316,
   "metadata": {},
   "outputs": [
    {
     "data": {
      "text/plain": [
       "True"
      ]
     },
     "execution_count": 316,
     "metadata": {},
     "output_type": "execute_result"
    }
   ],
   "source": [
    "data.xc_id.unique().shape[0] == data.shape[0] ##check the uniqueness of ids "
   ]
  },
  {
   "cell_type": "markdown",
   "metadata": {},
   "source": [
    "# Lets do it for all my data samples"
   ]
  },
  {
   "cell_type": "code",
   "execution_count": 284,
   "metadata": {},
   "outputs": [],
   "source": [
    "meta_SAMPLE_DIR = \"./metadata/\"     ##directory where the json_files are stored (root directory)"
   ]
  },
  {
   "cell_type": "code",
   "execution_count": 285,
   "metadata": {},
   "outputs": [],
   "source": [
    "sample_fullpaths = []               ###Get a list of paths\n",
    "\n",
    "for root, dirs, files in os.walk(meta_SAMPLE_DIR):\n",
    "    for file in files:\n",
    "        if file.endswith(\".json\"):\n",
    "            sample_fullpaths.append(os.path.join(root, file))\n",
    "            "
   ]
  },
  {
   "cell_type": "code",
   "execution_count": 318,
   "metadata": {},
   "outputs": [
    {
     "data": {
      "text/plain": [
       "72307"
      ]
     },
     "execution_count": 318,
     "metadata": {},
     "output_type": "execute_result"
    }
   ],
   "source": [
    "len(sample_fullpaths)"
   ]
  },
  {
   "cell_type": "code",
   "execution_count": 286,
   "metadata": {},
   "outputs": [],
   "source": [
    "news = []\n",
    "for cv in sample_fullpaths:\n",
    "    with open(cv, 'r') as myfile:\n",
    "        data=myfile.read()\n",
    "        new = json.loads(data)\n",
    "        news.append(new) "
   ]
  },
  {
   "cell_type": "code",
   "execution_count": 288,
   "metadata": {},
   "outputs": [
    {
     "data": {
      "text/plain": [
       "72307"
      ]
     },
     "execution_count": 288,
     "metadata": {},
     "output_type": "execute_result"
    }
   ],
   "source": [
    "len(news)"
   ]
  },
  {
   "cell_type": "code",
   "execution_count": 289,
   "metadata": {},
   "outputs": [],
   "source": [
    "list_data = []\n",
    "for dictiona in news:\n",
    "    df = pd.DataFrame.from_dict(dictiona, orient='index').T\n",
    "    list_data.append(df)"
   ]
  },
  {
   "cell_type": "code",
   "execution_count": 291,
   "metadata": {},
   "outputs": [
    {
     "data": {
      "text/plain": [
       "72307"
      ]
     },
     "execution_count": 291,
     "metadata": {},
     "output_type": "execute_result"
    }
   ],
   "source": [
    "len(list_data)"
   ]
  },
  {
   "cell_type": "code",
   "execution_count": 292,
   "metadata": {},
   "outputs": [
    {
     "name": "stderr",
     "output_type": "stream",
     "text": [
      "C:\\Users\\Aymane\\AppData\\Local\\Continuum\\anaconda3\\lib\\site-packages\\ipykernel_launcher.py:1: FutureWarning: Sorting because non-concatenation axis is not aligned. A future version\n",
      "of pandas will change to not sort by default.\n",
      "\n",
      "To accept the future behavior, pass 'sort=False'.\n",
      "\n",
      "To retain the current behavior and silence the warning, pass 'sort=True'.\n",
      "\n",
      "  \"\"\"Entry point for launching an IPython kernel.\n"
     ]
    }
   ],
   "source": [
    "data_final = pd.concat(list_data,axis = 0)"
   ]
  },
  {
   "cell_type": "code",
   "execution_count": 317,
   "metadata": {},
   "outputs": [
    {
     "data": {
      "text/html": [
       "<div>\n",
       "<style scoped>\n",
       "    .dataframe tbody tr th:only-of-type {\n",
       "        vertical-align: middle;\n",
       "    }\n",
       "\n",
       "    .dataframe tbody tr th {\n",
       "        vertical-align: top;\n",
       "    }\n",
       "\n",
       "    .dataframe thead th {\n",
       "        text-align: right;\n",
       "    }\n",
       "</style>\n",
       "<table border=\"1\" class=\"dataframe\">\n",
       "  <thead>\n",
       "    <tr style=\"text-align: right;\">\n",
       "      <th></th>\n",
       "      <th>author</th>\n",
       "      <th>background</th>\n",
       "      <th>bird_seen</th>\n",
       "      <th>bitrate of mp3</th>\n",
       "      <th>channels</th>\n",
       "      <th>country</th>\n",
       "      <th>date</th>\n",
       "      <th>description</th>\n",
       "      <th>duration</th>\n",
       "      <th>ebird code</th>\n",
       "      <th>...</th>\n",
       "      <th>sci-name</th>\n",
       "      <th>secondary labels</th>\n",
       "      <th>species</th>\n",
       "      <th>speed</th>\n",
       "      <th>time</th>\n",
       "      <th>title</th>\n",
       "      <th>type</th>\n",
       "      <th>url</th>\n",
       "      <th>volume</th>\n",
       "      <th>xc_id</th>\n",
       "    </tr>\n",
       "  </thead>\n",
       "  <tbody>\n",
       "    <tr>\n",
       "      <td>0</td>\n",
       "      <td>Tony Whitehead</td>\n",
       "      <td></td>\n",
       "      <td>NaN</td>\n",
       "      <td>192000 (bps)</td>\n",
       "      <td>2 (stereo)</td>\n",
       "      <td>United Kingdom</td>\n",
       "      <td>2012-05-13</td>\n",
       "      <td></td>\n",
       "      <td>33</td>\n",
       "      <td>comred</td>\n",
       "      <td>...</td>\n",
       "      <td>Acanthis flammea</td>\n",
       "      <td>[]</td>\n",
       "      <td>Common Redpoll</td>\n",
       "      <td>Not specified</td>\n",
       "      <td>7:15am</td>\n",
       "      <td>XC100976 Common Redpoll (Acanthis flammea)</td>\n",
       "      <td>call, song</td>\n",
       "      <td>https://www.xeno-canto.org/100976</td>\n",
       "      <td>Not specified</td>\n",
       "      <td>100976</td>\n",
       "    </tr>\n",
       "    <tr>\n",
       "      <td>0</td>\n",
       "      <td>Patrik Åberg</td>\n",
       "      <td></td>\n",
       "      <td>NaN</td>\n",
       "      <td>320000 (bps)</td>\n",
       "      <td>2 (stereo)</td>\n",
       "      <td>Sweden</td>\n",
       "      <td>2011-06-21</td>\n",
       "      <td></td>\n",
       "      <td>48</td>\n",
       "      <td>comred</td>\n",
       "      <td>...</td>\n",
       "      <td>Acanthis flammea</td>\n",
       "      <td>[]</td>\n",
       "      <td>Common Redpoll</td>\n",
       "      <td>Not specified</td>\n",
       "      <td>10:55</td>\n",
       "      <td>XC107048 Common Redpoll (Acanthis flammea)</td>\n",
       "      <td>Call</td>\n",
       "      <td>https://www.xeno-canto.org/107048</td>\n",
       "      <td>Not specified</td>\n",
       "      <td>107048</td>\n",
       "    </tr>\n",
       "    <tr>\n",
       "      <td>0</td>\n",
       "      <td>Alan dalton</td>\n",
       "      <td></td>\n",
       "      <td>NaN</td>\n",
       "      <td>128000 (bps)</td>\n",
       "      <td>2 (stereo)</td>\n",
       "      <td>Sweden</td>\n",
       "      <td>2012-10-22</td>\n",
       "      <td>Calls from migrating flock of 20 birds...</td>\n",
       "      <td>5</td>\n",
       "      <td>comred</td>\n",
       "      <td>...</td>\n",
       "      <td>Acanthis flammea</td>\n",
       "      <td>[]</td>\n",
       "      <td>Common Redpoll</td>\n",
       "      <td>Not specified</td>\n",
       "      <td>10.22am</td>\n",
       "      <td>XC111873 Common Redpoll (Acanthis flammea)</td>\n",
       "      <td>call</td>\n",
       "      <td>https://www.xeno-canto.org/111873</td>\n",
       "      <td>Not specified</td>\n",
       "      <td>111873</td>\n",
       "    </tr>\n",
       "    <tr>\n",
       "      <td>0</td>\n",
       "      <td>Sander Bot</td>\n",
       "      <td></td>\n",
       "      <td>yes</td>\n",
       "      <td>128000 (bps)</td>\n",
       "      <td>2 (stereo)</td>\n",
       "      <td>Netherlands</td>\n",
       "      <td>2012-10-15</td>\n",
       "      <td>Subspecies unknown.</td>\n",
       "      <td>3</td>\n",
       "      <td>comred</td>\n",
       "      <td>...</td>\n",
       "      <td>Acanthis flammea</td>\n",
       "      <td>[]</td>\n",
       "      <td>Common Redpoll</td>\n",
       "      <td>Not specified</td>\n",
       "      <td>15:30</td>\n",
       "      <td>XC112447 Common Redpoll (Acanthis flammea)</td>\n",
       "      <td>flight call</td>\n",
       "      <td>https://www.xeno-canto.org/112447</td>\n",
       "      <td>Not specified</td>\n",
       "      <td>112447</td>\n",
       "    </tr>\n",
       "    <tr>\n",
       "      <td>0</td>\n",
       "      <td>Martin St-Michel</td>\n",
       "      <td></td>\n",
       "      <td>yes</td>\n",
       "      <td>128000 (bps)</td>\n",
       "      <td>2 (stereo)</td>\n",
       "      <td>Canada</td>\n",
       "      <td>2012-11-25</td>\n",
       "      <td>One small flock calling in flight and one male...</td>\n",
       "      <td>27</td>\n",
       "      <td>comred</td>\n",
       "      <td>...</td>\n",
       "      <td>Acanthis flammea</td>\n",
       "      <td>[]</td>\n",
       "      <td>Common Redpoll</td>\n",
       "      <td>level</td>\n",
       "      <td>09:21</td>\n",
       "      <td>XC113480 Common Redpoll (Acanthis flammea)</td>\n",
       "      <td>call, flight call, male</td>\n",
       "      <td>https://www.xeno-canto.org/113480</td>\n",
       "      <td>level</td>\n",
       "      <td>113480</td>\n",
       "    </tr>\n",
       "  </tbody>\n",
       "</table>\n",
       "<p>5 rows × 34 columns</p>\n",
       "</div>"
      ],
      "text/plain": [
       "             author background bird_seen bitrate of mp3    channels  \\\n",
       "0    Tony Whitehead                  NaN   192000 (bps)  2 (stereo)   \n",
       "0      Patrik Åberg                  NaN   320000 (bps)  2 (stereo)   \n",
       "0       Alan dalton                  NaN   128000 (bps)  2 (stereo)   \n",
       "0        Sander Bot                  yes   128000 (bps)  2 (stereo)   \n",
       "0  Martin St-Michel                  yes   128000 (bps)  2 (stereo)   \n",
       "\n",
       "          country        date  \\\n",
       "0  United Kingdom  2012-05-13   \n",
       "0          Sweden  2011-06-21   \n",
       "0          Sweden  2012-10-22   \n",
       "0     Netherlands  2012-10-15   \n",
       "0          Canada  2012-11-25   \n",
       "\n",
       "                                         description duration ebird code  ...  \\\n",
       "0                                                          33     comred  ...   \n",
       "0                                                          48     comred  ...   \n",
       "0          Calls from migrating flock of 20 birds...        5     comred  ...   \n",
       "0                                Subspecies unknown.        3     comred  ...   \n",
       "0  One small flock calling in flight and one male...       27     comred  ...   \n",
       "\n",
       "           sci-name secondary labels         species          speed     time  \\\n",
       "0  Acanthis flammea               []  Common Redpoll  Not specified   7:15am   \n",
       "0  Acanthis flammea               []  Common Redpoll  Not specified    10:55   \n",
       "0  Acanthis flammea               []  Common Redpoll  Not specified  10.22am   \n",
       "0  Acanthis flammea               []  Common Redpoll  Not specified    15:30   \n",
       "0  Acanthis flammea               []  Common Redpoll          level    09:21   \n",
       "\n",
       "                                        title                     type  \\\n",
       "0  XC100976 Common Redpoll (Acanthis flammea)               call, song   \n",
       "0  XC107048 Common Redpoll (Acanthis flammea)                     Call   \n",
       "0  XC111873 Common Redpoll (Acanthis flammea)                     call   \n",
       "0  XC112447 Common Redpoll (Acanthis flammea)              flight call   \n",
       "0  XC113480 Common Redpoll (Acanthis flammea)  call, flight call, male   \n",
       "\n",
       "                                 url         volume   xc_id  \n",
       "0  https://www.xeno-canto.org/100976  Not specified  100976  \n",
       "0  https://www.xeno-canto.org/107048  Not specified  107048  \n",
       "0  https://www.xeno-canto.org/111873  Not specified  111873  \n",
       "0  https://www.xeno-canto.org/112447  Not specified  112447  \n",
       "0  https://www.xeno-canto.org/113480          level  113480  \n",
       "\n",
       "[5 rows x 34 columns]"
      ]
     },
     "execution_count": 317,
     "metadata": {},
     "output_type": "execute_result"
    }
   ],
   "source": [
    "data_final.head()"
   ]
  },
  {
   "cell_type": "code",
   "execution_count": 294,
   "metadata": {},
   "outputs": [
    {
     "data": {
      "text/plain": [
       "True"
      ]
     },
     "execution_count": 294,
     "metadata": {},
     "output_type": "execute_result"
    }
   ],
   "source": [
    "##check the uniqueness\n",
    "data_final.xc_id.unique().shape[0] == data_final.shape[0]"
   ]
  },
  {
   "cell_type": "code",
   "execution_count": 295,
   "metadata": {},
   "outputs": [],
   "source": [
    "###store the metadata\n",
    "data_final.to_csv( './metadata.csv') "
   ]
  },
  {
   "cell_type": "markdown",
   "metadata": {},
   "source": [
    "# Merging the taxonomy data with the metadata"
   ]
  },
  {
   "cell_type": "code",
   "execution_count": 296,
   "metadata": {},
   "outputs": [],
   "source": [
    "taxo_data = pd.read_csv('./eBird_Taxonomy_v2019.csv')"
   ]
  },
  {
   "cell_type": "code",
   "execution_count": 297,
   "metadata": {},
   "outputs": [],
   "source": [
    "taxo_data.rename(columns={'SPECIES_CODE': 'ebird code'},inplace = True) #### unify the column to be ebird code"
   ]
  },
  {
   "cell_type": "code",
   "execution_count": 298,
   "metadata": {},
   "outputs": [],
   "source": [
    "data_merged = pd.merge(data_final,taxo_data,on = 'ebird code')    ##do the merge"
   ]
  },
  {
   "cell_type": "code",
   "execution_count": 300,
   "metadata": {},
   "outputs": [
    {
     "data": {
      "text/html": [
       "<div>\n",
       "<style scoped>\n",
       "    .dataframe tbody tr th:only-of-type {\n",
       "        vertical-align: middle;\n",
       "    }\n",
       "\n",
       "    .dataframe tbody tr th {\n",
       "        vertical-align: top;\n",
       "    }\n",
       "\n",
       "    .dataframe thead th {\n",
       "        text-align: right;\n",
       "    }\n",
       "</style>\n",
       "<table border=\"1\" class=\"dataframe\">\n",
       "  <thead>\n",
       "    <tr style=\"text-align: right;\">\n",
       "      <th></th>\n",
       "      <th>author</th>\n",
       "      <th>background</th>\n",
       "      <th>bird_seen</th>\n",
       "      <th>bitrate of mp3</th>\n",
       "      <th>channels</th>\n",
       "      <th>country</th>\n",
       "      <th>date</th>\n",
       "      <th>description</th>\n",
       "      <th>duration</th>\n",
       "      <th>ebird code</th>\n",
       "      <th>...</th>\n",
       "      <th>volume</th>\n",
       "      <th>xc_id</th>\n",
       "      <th>TAXON_ORDER</th>\n",
       "      <th>CATEGORY</th>\n",
       "      <th>PRIMARY_COM_NAME</th>\n",
       "      <th>SCI_NAME</th>\n",
       "      <th>ORDER1</th>\n",
       "      <th>FAMILY</th>\n",
       "      <th>SPECIES_GROUP</th>\n",
       "      <th>REPORT_AS</th>\n",
       "    </tr>\n",
       "  </thead>\n",
       "  <tbody>\n",
       "    <tr>\n",
       "      <td>0</td>\n",
       "      <td>Tony Whitehead</td>\n",
       "      <td></td>\n",
       "      <td>NaN</td>\n",
       "      <td>192000 (bps)</td>\n",
       "      <td>2 (stereo)</td>\n",
       "      <td>United Kingdom</td>\n",
       "      <td>2012-05-13</td>\n",
       "      <td></td>\n",
       "      <td>33</td>\n",
       "      <td>comred</td>\n",
       "      <td>...</td>\n",
       "      <td>Not specified</td>\n",
       "      <td>100976</td>\n",
       "      <td>31254</td>\n",
       "      <td>species</td>\n",
       "      <td>Common Redpoll</td>\n",
       "      <td>Acanthis flammea</td>\n",
       "      <td>Passeriformes</td>\n",
       "      <td>Fringillidae (Finches, Euphonias, and Allies)</td>\n",
       "      <td>NaN</td>\n",
       "      <td>NaN</td>\n",
       "    </tr>\n",
       "    <tr>\n",
       "      <td>1</td>\n",
       "      <td>Patrik Åberg</td>\n",
       "      <td></td>\n",
       "      <td>NaN</td>\n",
       "      <td>320000 (bps)</td>\n",
       "      <td>2 (stereo)</td>\n",
       "      <td>Sweden</td>\n",
       "      <td>2011-06-21</td>\n",
       "      <td></td>\n",
       "      <td>48</td>\n",
       "      <td>comred</td>\n",
       "      <td>...</td>\n",
       "      <td>Not specified</td>\n",
       "      <td>107048</td>\n",
       "      <td>31254</td>\n",
       "      <td>species</td>\n",
       "      <td>Common Redpoll</td>\n",
       "      <td>Acanthis flammea</td>\n",
       "      <td>Passeriformes</td>\n",
       "      <td>Fringillidae (Finches, Euphonias, and Allies)</td>\n",
       "      <td>NaN</td>\n",
       "      <td>NaN</td>\n",
       "    </tr>\n",
       "    <tr>\n",
       "      <td>2</td>\n",
       "      <td>Alan dalton</td>\n",
       "      <td></td>\n",
       "      <td>NaN</td>\n",
       "      <td>128000 (bps)</td>\n",
       "      <td>2 (stereo)</td>\n",
       "      <td>Sweden</td>\n",
       "      <td>2012-10-22</td>\n",
       "      <td>Calls from migrating flock of 20 birds...</td>\n",
       "      <td>5</td>\n",
       "      <td>comred</td>\n",
       "      <td>...</td>\n",
       "      <td>Not specified</td>\n",
       "      <td>111873</td>\n",
       "      <td>31254</td>\n",
       "      <td>species</td>\n",
       "      <td>Common Redpoll</td>\n",
       "      <td>Acanthis flammea</td>\n",
       "      <td>Passeriformes</td>\n",
       "      <td>Fringillidae (Finches, Euphonias, and Allies)</td>\n",
       "      <td>NaN</td>\n",
       "      <td>NaN</td>\n",
       "    </tr>\n",
       "    <tr>\n",
       "      <td>3</td>\n",
       "      <td>Sander Bot</td>\n",
       "      <td></td>\n",
       "      <td>yes</td>\n",
       "      <td>128000 (bps)</td>\n",
       "      <td>2 (stereo)</td>\n",
       "      <td>Netherlands</td>\n",
       "      <td>2012-10-15</td>\n",
       "      <td>Subspecies unknown.</td>\n",
       "      <td>3</td>\n",
       "      <td>comred</td>\n",
       "      <td>...</td>\n",
       "      <td>Not specified</td>\n",
       "      <td>112447</td>\n",
       "      <td>31254</td>\n",
       "      <td>species</td>\n",
       "      <td>Common Redpoll</td>\n",
       "      <td>Acanthis flammea</td>\n",
       "      <td>Passeriformes</td>\n",
       "      <td>Fringillidae (Finches, Euphonias, and Allies)</td>\n",
       "      <td>NaN</td>\n",
       "      <td>NaN</td>\n",
       "    </tr>\n",
       "    <tr>\n",
       "      <td>4</td>\n",
       "      <td>Martin St-Michel</td>\n",
       "      <td></td>\n",
       "      <td>yes</td>\n",
       "      <td>128000 (bps)</td>\n",
       "      <td>2 (stereo)</td>\n",
       "      <td>Canada</td>\n",
       "      <td>2012-11-25</td>\n",
       "      <td>One small flock calling in flight and one male...</td>\n",
       "      <td>27</td>\n",
       "      <td>comred</td>\n",
       "      <td>...</td>\n",
       "      <td>level</td>\n",
       "      <td>113480</td>\n",
       "      <td>31254</td>\n",
       "      <td>species</td>\n",
       "      <td>Common Redpoll</td>\n",
       "      <td>Acanthis flammea</td>\n",
       "      <td>Passeriformes</td>\n",
       "      <td>Fringillidae (Finches, Euphonias, and Allies)</td>\n",
       "      <td>NaN</td>\n",
       "      <td>NaN</td>\n",
       "    </tr>\n",
       "  </tbody>\n",
       "</table>\n",
       "<p>5 rows × 42 columns</p>\n",
       "</div>"
      ],
      "text/plain": [
       "             author background bird_seen bitrate of mp3    channels  \\\n",
       "0    Tony Whitehead                  NaN   192000 (bps)  2 (stereo)   \n",
       "1      Patrik Åberg                  NaN   320000 (bps)  2 (stereo)   \n",
       "2       Alan dalton                  NaN   128000 (bps)  2 (stereo)   \n",
       "3        Sander Bot                  yes   128000 (bps)  2 (stereo)   \n",
       "4  Martin St-Michel                  yes   128000 (bps)  2 (stereo)   \n",
       "\n",
       "          country        date  \\\n",
       "0  United Kingdom  2012-05-13   \n",
       "1          Sweden  2011-06-21   \n",
       "2          Sweden  2012-10-22   \n",
       "3     Netherlands  2012-10-15   \n",
       "4          Canada  2012-11-25   \n",
       "\n",
       "                                         description duration ebird code  ...  \\\n",
       "0                                                          33     comred  ...   \n",
       "1                                                          48     comred  ...   \n",
       "2          Calls from migrating flock of 20 birds...        5     comred  ...   \n",
       "3                                Subspecies unknown.        3     comred  ...   \n",
       "4  One small flock calling in flight and one male...       27     comred  ...   \n",
       "\n",
       "          volume   xc_id TAXON_ORDER CATEGORY PRIMARY_COM_NAME  \\\n",
       "0  Not specified  100976       31254  species   Common Redpoll   \n",
       "1  Not specified  107048       31254  species   Common Redpoll   \n",
       "2  Not specified  111873       31254  species   Common Redpoll   \n",
       "3  Not specified  112447       31254  species   Common Redpoll   \n",
       "4          level  113480       31254  species   Common Redpoll   \n",
       "\n",
       "           SCI_NAME         ORDER1  \\\n",
       "0  Acanthis flammea  Passeriformes   \n",
       "1  Acanthis flammea  Passeriformes   \n",
       "2  Acanthis flammea  Passeriformes   \n",
       "3  Acanthis flammea  Passeriformes   \n",
       "4  Acanthis flammea  Passeriformes   \n",
       "\n",
       "                                          FAMILY SPECIES_GROUP REPORT_AS  \n",
       "0  Fringillidae (Finches, Euphonias, and Allies)           NaN       NaN  \n",
       "1  Fringillidae (Finches, Euphonias, and Allies)           NaN       NaN  \n",
       "2  Fringillidae (Finches, Euphonias, and Allies)           NaN       NaN  \n",
       "3  Fringillidae (Finches, Euphonias, and Allies)           NaN       NaN  \n",
       "4  Fringillidae (Finches, Euphonias, and Allies)           NaN       NaN  \n",
       "\n",
       "[5 rows x 42 columns]"
      ]
     },
     "execution_count": 300,
     "metadata": {},
     "output_type": "execute_result"
    }
   ],
   "source": [
    "data_merged.head()"
   ]
  },
  {
   "cell_type": "code",
   "execution_count": 299,
   "metadata": {},
   "outputs": [
    {
     "data": {
      "text/plain": [
       "True"
      ]
     },
     "execution_count": 299,
     "metadata": {},
     "output_type": "execute_result"
    }
   ],
   "source": [
    "##check the uniqueness\n",
    "data_merged.xc_id.unique().shape[0] == data_merged.shape[0]"
   ]
  },
  {
   "cell_type": "code",
   "execution_count": 302,
   "metadata": {},
   "outputs": [],
   "source": [
    "### save the data\n",
    "data_merged.to_csv('./data_merged.csv')"
   ]
  },
  {
   "cell_type": "code",
   "execution_count": null,
   "metadata": {},
   "outputs": [],
   "source": []
  }
 ],
 "metadata": {
  "kernelspec": {
   "display_name": "Python 3",
   "language": "python",
   "name": "python3"
  },
  "language_info": {
   "codemirror_mode": {
    "name": "ipython",
    "version": 3
   },
   "file_extension": ".py",
   "mimetype": "text/x-python",
   "name": "python",
   "nbconvert_exporter": "python",
   "pygments_lexer": "ipython3",
   "version": "3.7.4"
  }
 },
 "nbformat": 4,
 "nbformat_minor": 2
}
