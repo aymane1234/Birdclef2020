{
 "cells": [
  {
   "cell_type": "code",
   "execution_count": 1,
   "metadata": {},
   "outputs": [],
   "source": [
    "import librosa"
   ]
  },
  {
   "cell_type": "code",
   "execution_count": 2,
   "metadata": {},
   "outputs": [],
   "source": [
    "from bird import utils  ##we need this library to make this \n",
    "from bird import signal_processing as sp\n",
    "from bird import preprocessing as pp "
   ]
  },
  {
   "cell_type": "markdown",
   "metadata": {},
   "source": [
    "Remember: this is how John defined his split function: \n",
    "\n",
    "\n",
    "def preprocess_wave(wave, fs):\n",
    "\n",
    "\n",
    "\n",
    "    \"\"\" Preprocess a signal by computing the noise and signal mask of the\n",
    "    signal, and extracting each part from the signal\n",
    "    \"\"\"\n",
    "           \n",
    "    Sxx = sp.wave_to_amplitude_spectrogram(wave, fs)\n",
    "\n",
    "    n_mask = compute_noise_mask(Sxx)\n",
    "    s_mask = compute_signal_mask(Sxx)\n",
    "\n",
    "    n_mask_scaled = reshape_binary_mask(n_mask, wave.shape[0])\n",
    "    s_mask_scaled = reshape_binary_mask(s_mask, wave.shape[0])\n",
    "\n",
    "    signal_wave = extract_masked_part_from_wave(s_mask_scaled, wave)\n",
    "    noise_wave = extract_masked_part_from_wave(n_mask_scaled, wave)\n",
    "\n",
    "    return signal_wave, noise_wave\n"
   ]
  },
  {
   "cell_type": "markdown",
   "metadata": {},
   "source": [
    "# I try it for my small experiment files in trial_files"
   ]
  },
  {
   "cell_type": "markdown",
   "metadata": {},
   "source": [
    "So this is a small experiment to make sure that the pp.preprocess_sound_file works after executing the test_convert.py script"
   ]
  },
  {
   "cell_type": "code",
   "execution_count": 22,
   "metadata": {},
   "outputs": [],
   "source": [
    "filename ='./trial_converted/trial_files/Spizellapusilla_FieldSparrow/XC86488.wav'"
   ]
  },
  {
   "cell_type": "code",
   "execution_count": 23,
   "metadata": {},
   "outputs": [],
   "source": [
    "wav_data, sr = librosa.load(filename)"
   ]
  },
  {
   "cell_type": "code",
   "execution_count": 24,
   "metadata": {},
   "outputs": [
    {
     "data": {
      "text/plain": [
       "(array([0., 0., 0., ..., 0., 0., 0.], dtype=float32),\n",
       " array([-0.00323486, -0.0050354 , -0.00637817, ...,  0.        ,\n",
       "         0.        ,  0.        ], dtype=float32))"
      ]
     },
     "execution_count": 24,
     "metadata": {},
     "output_type": "execute_result"
    }
   ],
   "source": [
    "pp.preprocess_wave(wav_data, sr)"
   ]
  },
  {
   "cell_type": "code",
   "execution_count": 25,
   "metadata": {},
   "outputs": [
    {
     "name": "stdout",
     "output_type": "stream",
     "text": [
      "[0 0 0 ... 0 0 0]\n"
     ]
    }
   ],
   "source": [
    "pp.preprocess_sound_file(filename,'./trial_converted/trial_files/class_dir/', './trial_converted/trial_files/noise_dir/', 3)"
   ]
  },
  {
   "cell_type": "code",
   "execution_count": null,
   "metadata": {},
   "outputs": [],
   "source": []
  }
 ],
 "metadata": {
  "kernelspec": {
   "display_name": "Python 3",
   "language": "python",
   "name": "python3"
  },
  "language_info": {
   "codemirror_mode": {
    "name": "ipython",
    "version": 3
   },
   "file_extension": ".py",
   "mimetype": "text/x-python",
   "name": "python",
   "nbconvert_exporter": "python",
   "pygments_lexer": "ipython3",
   "version": "3.7.4"
  }
 },
 "nbformat": 4,
 "nbformat_minor": 2
}
