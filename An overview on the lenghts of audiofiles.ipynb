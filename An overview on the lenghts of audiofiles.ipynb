{
 "cells": [
  {
   "cell_type": "markdown",
   "metadata": {},
   "source": [
    "# Using the audiofile_read library we can use any sound file, thanks to the decoder functions implemented in audiofile_read"
   ]
  },
  {
   "cell_type": "code",
   "execution_count": 2,
   "metadata": {},
   "outputs": [],
   "source": [
    "import numpy as np\n",
    "import os\n",
    "import pandas as pd\n",
    "from audiofile_read import audiofile_read"
   ]
  },
  {
   "cell_type": "code",
   "execution_count": 3,
   "metadata": {},
   "outputs": [],
   "source": [
    "# directory where the audio samples are stored (root directory)\n",
    "Aud_dir = \"./Desktop/ALL BIRDS/ALL BIRDS\""
   ]
  },
  {
   "cell_type": "code",
   "execution_count": 4,
   "metadata": {},
   "outputs": [],
   "source": [
    "####get a list of the full-sound-paths\n",
    "\n",
    "sample_fullpaths1 = []\n",
    "\n",
    "for Root, Dirs, Files in os.walk(Aud_dir):\n",
    "    for File in Files:\n",
    "        if File.endswith(\".mp3\"):\n",
    "            sample_fullpaths1.append(os.path.join(Root, File))"
   ]
  },
  {
   "cell_type": "code",
   "execution_count": null,
   "metadata": {},
   "outputs": [],
   "source": [
    "### get your sample rate and the number of samples\n",
    "for file_name in sample_fullpaths1:    \n",
    "    samplerate, samplewidth, wavedata = audiofile_read(file_name,verbose=False)\n",
    "    sample_length = wavedata.shape[0]\n",
    "    print( samplerate, \"Hz,\", samplewidth*8, \"bit,\", wavedata.shape[1], \"channels,\", wavedata.shape[0], \"samples\")    "
   ]
  }
 ],
 "metadata": {
  "kernelspec": {
   "display_name": "Python 3",
   "language": "python",
   "name": "python3"
  },
  "language_info": {
   "codemirror_mode": {
    "name": "ipython",
    "version": 3
   },
   "file_extension": ".py",
   "mimetype": "text/x-python",
   "name": "python",
   "nbconvert_exporter": "python",
   "pygments_lexer": "ipython3",
   "version": "3.7.4"
  }
 },
 "nbformat": 4,
 "nbformat_minor": 2
}
