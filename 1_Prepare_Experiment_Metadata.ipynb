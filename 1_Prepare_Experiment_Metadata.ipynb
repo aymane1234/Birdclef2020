{
 "cells": [
  {
   "cell_type": "markdown",
   "metadata": {
    "Collapsed": "false"
   },
   "source": [
    "# Configuration"
   ]
  },
  {
   "cell_type": "code",
   "execution_count": 1,
   "metadata": {
    "Collapsed": "false"
   },
   "outputs": [],
   "source": [
    "# directory where MSD audio samples are stored (root directory)\n",
    "MSD_SAMPLE_DIR                      = \"/mnt/dataset_storage/audio/music/MSD/audio/\"\n",
    "\n",
    "# path to \"msd_amglabels_all.h5\" - leave blank to skip\n",
    "MSD_AMG_TAGS_PATH                   = \"/home/schindlera/experiments/representation_from_album_review/data/msd_amglabels_all.h5\"\n",
    "\n",
    "# Album Reviews - leave blank to skip\n",
    "MSD_AMG_REVIEW_TRACKID_MAPPING_PATH = \"/home/schindlera/experiments/representation_from_album_review/data/MSD_AMG_REVIEW_TRACKID_MAPPING.h5\"\n",
    "\n",
    "# directory to store intermediate and final results of the experiment\n",
    "EXPERIMENT_DIR                      = \"/home/schindlera/experiments/ismir2020_reviews/\""
   ]
  },
  {
   "cell_type": "markdown",
   "metadata": {
    "Collapsed": "false"
   },
   "source": [
    "# Imports"
   ]
  },
  {
   "cell_type": "code",
   "execution_count": 2,
   "metadata": {
    "Collapsed": "false",
    "ExecuteTime": {
     "end_time": "2020-03-16T14:22:44.212352Z",
     "start_time": "2020-03-16T14:22:43.374144Z"
    }
   },
   "outputs": [],
   "source": [
    "import os\n",
    "import pandas as pd\n",
    "import numpy as np"
   ]
  },
  {
   "cell_type": "markdown",
   "metadata": {
    "Collapsed": "false"
   },
   "source": [
    "# Load Data"
   ]
  },
  {
   "cell_type": "markdown",
   "metadata": {
    "Collapsed": "false"
   },
   "source": [
    "## Find all MSD audio samples"
   ]
  },
  {
   "cell_type": "code",
   "execution_count": 3,
   "metadata": {
    "Collapsed": "false"
   },
   "outputs": [
    {
     "name": "stdout",
     "output_type": "stream",
     "text": [
      "995000 MSD audio samples found\n"
     ]
    }
   ],
   "source": [
    "sample_fullpaths = []\n",
    "sample_track_ids = []\n",
    "\n",
    "for root, dirs, files in os.walk(MSD_SAMPLE_DIR):\n",
    "    for file in files:\n",
    "        if file.endswith(\".mp3\"):\n",
    "            sample_fullpaths.append(os.path.join(root, file))\n",
    "            sample_track_ids.append(file.replace(\".mp3\", \"\"))\n",
    "\n",
    "metadata_audio          = pd.DataFrame(sample_fullpaths, index=sample_track_ids, columns=[\"audio_path\"])\n",
    "metadata_audio[\"audio\"] = True\n",
    "\n",
    "print(\"%d MSD audio samples found\" % metadata_audio.shape[0])"
   ]
  },
  {
   "cell_type": "markdown",
   "metadata": {
    "Collapsed": "false"
   },
   "source": [
    "## Join with Tagset Data"
   ]
  },
  {
   "cell_type": "code",
   "execution_count": 10,
   "metadata": {
    "Collapsed": "false",
    "ExecuteTime": {
     "end_time": "2020-03-16T14:23:18.072716Z",
     "start_time": "2020-03-16T14:23:15.414717Z"
    }
   },
   "outputs": [
    {
     "name": "stdout",
     "output_type": "stream",
     "text": [
      "Intersection size: 504992\n"
     ]
    }
   ],
   "source": [
    "if os.path.exists(MSD_AMG_TAGS_PATH):\n",
    "\n",
    "    # load labelsets from hdf5 archive\n",
    "    msd_amgtags_all         = pd.read_hdf(MSD_AMG_TAGS_PATH, \"data\")\n",
    "\n",
    "    # only use instances where at least one genre tag is provided\n",
    "    msd_amgtags_all         = msd_amgtags_all[~msd_amgtags_all.genres.isna()]\n",
    "    msd_amgtags_all[\"tags\"] = True\n",
    "\n",
    "    # join with audio metadata\n",
    "    metadata_final          = metadata_audio.join(msd_amgtags_all, how=\"inner\")\n",
    "\n",
    "    print(\"Intersection size: %d\" % metadata_final.shape[0])\n",
    "    \n",
    "else:\n",
    "    \n",
    "    metadata_final = metadata_audio"
   ]
  },
  {
   "cell_type": "markdown",
   "metadata": {
    "Collapsed": "false"
   },
   "source": [
    "## Join with Album Review Dataset"
   ]
  },
  {
   "cell_type": "code",
   "execution_count": 11,
   "metadata": {
    "Collapsed": "false",
    "ExecuteTime": {
     "end_time": "2020-03-16T14:23:18.072716Z",
     "start_time": "2020-03-16T14:23:15.414717Z"
    }
   },
   "outputs": [
    {
     "name": "stdout",
     "output_type": "stream",
     "text": [
      "Intersection size: 504992\n"
     ]
    }
   ],
   "source": [
    "if os.path.exists(MSD_AMG_REVIEW_TRACKID_MAPPING_PATH):\n",
    "\n",
    "    MSD_lastfmid_trackid_mapping            = pd.read_hdf(MSD_AMG_REVIEW_TRACKID_MAPPING_PATH, \"data\")\n",
    "    MSD_lastfmid_trackid_mapping            = MSD_lastfmid_trackid_mapping.set_index(\"track_id\")\n",
    "    MSD_lastfmid_trackid_mapping[\"reviews\"] = True\n",
    "\n",
    "    metadata_final = metadata_final.join(MSD_lastfmid_trackid_mapping, how=\"left\")\n",
    "\n",
    "    print(\"Intersection size: %d\" % metadata_final.shape[0])"
   ]
  },
  {
   "cell_type": "markdown",
   "metadata": {
    "Collapsed": "false"
   },
   "source": [
    "# Store Data"
   ]
  },
  {
   "cell_type": "markdown",
   "metadata": {
    "Collapsed": "false"
   },
   "source": [
    "Store Metadata"
   ]
  },
  {
   "cell_type": "code",
   "execution_count": 12,
   "metadata": {
    "Collapsed": "false"
   },
   "outputs": [
    {
     "name": "stderr",
     "output_type": "stream",
     "text": [
      "/home/schindlera/.conda/envs/base36/lib/python3.6/site-packages/pandas/core/generic.py:2505: PerformanceWarning: \n",
      "your performance may suffer as PyTables will pickle object types that it cannot\n",
      "map directly to c-types [inferred_type->mixed,key->block2_values] [items->Index(['audio_path', 'genres', 'styles', 'moods', 'themes', 'artist_name',\n",
      "       'title', 'release', 'reviews'],\n",
      "      dtype='object')]\n",
      "\n",
      "  encoding=encoding,\n"
     ]
    }
   ],
   "source": [
    "metadata_final.to_hdf(EXPERIMENT_DIR + \"/experiment_partition.h5\", \"data\")"
   ]
  },
  {
   "cell_type": "markdown",
   "metadata": {
    "Collapsed": "false"
   },
   "source": [
    "Store trackids for feature extraction"
   ]
  },
  {
   "cell_type": "code",
   "execution_count": 13,
   "metadata": {
    "Collapsed": "false"
   },
   "outputs": [],
   "source": [
    "metadata_final.reset_index()[[\"index\",\"audio_path\"]].to_csv(EXPERIMENT_DIR + \"/eval_trackids.csv\", header=None, index=None)"
   ]
  },
  {
   "cell_type": "markdown",
   "metadata": {
    "Collapsed": "false"
   },
   "source": [
    "Read Metadata"
   ]
  },
  {
   "cell_type": "code",
   "execution_count": 3,
   "metadata": {},
   "outputs": [],
   "source": [
    "metadata_final = pd.read_hdf(EXPERIMENT_DIR + \"/experiment_partition.h5\", \"data\")"
   ]
  },
  {
   "cell_type": "code",
   "execution_count": 4,
   "metadata": {},
   "outputs": [
    {
     "data": {
      "text/html": [
       "<div>\n",
       "<style scoped>\n",
       "    .dataframe tbody tr th:only-of-type {\n",
       "        vertical-align: middle;\n",
       "    }\n",
       "\n",
       "    .dataframe tbody tr th {\n",
       "        vertical-align: top;\n",
       "    }\n",
       "\n",
       "    .dataframe thead th {\n",
       "        text-align: right;\n",
       "    }\n",
       "</style>\n",
       "<table border=\"1\" class=\"dataframe\">\n",
       "  <thead>\n",
       "    <tr style=\"text-align: right;\">\n",
       "      <th></th>\n",
       "      <th>audio_path</th>\n",
       "      <th>audio</th>\n",
       "      <th>genres</th>\n",
       "      <th>styles</th>\n",
       "      <th>moods</th>\n",
       "      <th>themes</th>\n",
       "      <th>tags</th>\n",
       "      <th>artist_name</th>\n",
       "      <th>title</th>\n",
       "      <th>release</th>\n",
       "      <th>lastfm_id</th>\n",
       "      <th>reviews</th>\n",
       "      <th>genres_flattened</th>\n",
       "      <th>train</th>\n",
       "      <th>val</th>\n",
       "      <th>test</th>\n",
       "    </tr>\n",
       "    <tr>\n",
       "      <th>trackid</th>\n",
       "      <th></th>\n",
       "      <th></th>\n",
       "      <th></th>\n",
       "      <th></th>\n",
       "      <th></th>\n",
       "      <th></th>\n",
       "      <th></th>\n",
       "      <th></th>\n",
       "      <th></th>\n",
       "      <th></th>\n",
       "      <th></th>\n",
       "      <th></th>\n",
       "      <th></th>\n",
       "      <th></th>\n",
       "      <th></th>\n",
       "      <th></th>\n",
       "    </tr>\n",
       "  </thead>\n",
       "  <tbody>\n",
       "    <tr>\n",
       "      <th>TRZZZHL128F423C536</th>\n",
       "      <td>/mnt/dataset_storage/audio/music/MSD/audio/Z/Z...</td>\n",
       "      <td>True</td>\n",
       "      <td>[Pop/Rock, R&amp;B]</td>\n",
       "      <td>[Album Rock, Blue-Eyed Soul, Contemporary Pop/...</td>\n",
       "      <td>[Calm/Peaceful, Laid-Back/Mellow, Warm, Elegan...</td>\n",
       "      <td>[Background Music, Comfort, Romantic Evening, ...</td>\n",
       "      <td>True</td>\n",
       "      <td>Van Morrison</td>\n",
       "      <td>Crazy Love (Album Version)</td>\n",
       "      <td>Moondance</td>\n",
       "      <td>2028615.0</td>\n",
       "      <td>True</td>\n",
       "      <td>R&amp;B</td>\n",
       "      <td>True</td>\n",
       "      <td>False</td>\n",
       "      <td>False</td>\n",
       "    </tr>\n",
       "    <tr>\n",
       "      <th>TRZZZWE12903CDD329</th>\n",
       "      <td>/mnt/dataset_storage/audio/music/MSD/audio/Z/Z...</td>\n",
       "      <td>True</td>\n",
       "      <td>[Electronic]</td>\n",
       "      <td>[Funky Breaks]</td>\n",
       "      <td>[Gritty, Playful, Laid-Back/Mellow, Trippy, Wh...</td>\n",
       "      <td>[Hanging Out]</td>\n",
       "      <td>True</td>\n",
       "      <td>NaN</td>\n",
       "      <td>NaN</td>\n",
       "      <td>NaN</td>\n",
       "      <td>NaN</td>\n",
       "      <td>NaN</td>\n",
       "      <td>Electronic</td>\n",
       "      <td>False</td>\n",
       "      <td>False</td>\n",
       "      <td>True</td>\n",
       "    </tr>\n",
       "    <tr>\n",
       "      <th>TRZZZCL128F428BB80</th>\n",
       "      <td>/mnt/dataset_storage/audio/music/MSD/audio/Z/Z...</td>\n",
       "      <td>True</td>\n",
       "      <td>[Pop/Rock]</td>\n",
       "      <td>[Alternative/Indie Rock, Post-Hardcore, Goth R...</td>\n",
       "      <td>[Dramatic, Ethereal, Cathartic, Elegant, Enigm...</td>\n",
       "      <td>[Late Night, Reflection, Solitude, Heartache, ...</td>\n",
       "      <td>True</td>\n",
       "      <td>I Am Ghost</td>\n",
       "      <td>The Ship of Pills and Needed Things</td>\n",
       "      <td>Lover's Requiem</td>\n",
       "      <td>3403584.0</td>\n",
       "      <td>True</td>\n",
       "      <td>Pop/Rock</td>\n",
       "      <td>True</td>\n",
       "      <td>False</td>\n",
       "      <td>False</td>\n",
       "    </tr>\n",
       "    <tr>\n",
       "      <th>TRZZZMM128F42819C0</th>\n",
       "      <td>/mnt/dataset_storage/audio/music/MSD/audio/Z/Z...</td>\n",
       "      <td>True</td>\n",
       "      <td>[Pop/Rock]</td>\n",
       "      <td>NaN</td>\n",
       "      <td>NaN</td>\n",
       "      <td>NaN</td>\n",
       "      <td>True</td>\n",
       "      <td>NaN</td>\n",
       "      <td>NaN</td>\n",
       "      <td>NaN</td>\n",
       "      <td>NaN</td>\n",
       "      <td>NaN</td>\n",
       "      <td>Pop/Rock</td>\n",
       "      <td>False</td>\n",
       "      <td>False</td>\n",
       "      <td>True</td>\n",
       "    </tr>\n",
       "    <tr>\n",
       "      <th>TRZZZGZ128F4292B90</th>\n",
       "      <td>/mnt/dataset_storage/audio/music/MSD/audio/Z/Z...</td>\n",
       "      <td>True</td>\n",
       "      <td>[Pop/Rock]</td>\n",
       "      <td>[Adult Alternative Pop/Rock, Alternative/Indie...</td>\n",
       "      <td>[Slick, Poignant, Bittersweet, Passionate, Liv...</td>\n",
       "      <td>[Day Driving, Girls Night Out, Empowering]</td>\n",
       "      <td>True</td>\n",
       "      <td>Andrea Corr</td>\n",
       "      <td>24 Hours (Album Version)</td>\n",
       "      <td>Ten Feet High</td>\n",
       "      <td>3307948.0</td>\n",
       "      <td>True</td>\n",
       "      <td>Pop/Rock</td>\n",
       "      <td>True</td>\n",
       "      <td>False</td>\n",
       "      <td>False</td>\n",
       "    </tr>\n",
       "    <tr>\n",
       "      <th>...</th>\n",
       "      <td>...</td>\n",
       "      <td>...</td>\n",
       "      <td>...</td>\n",
       "      <td>...</td>\n",
       "      <td>...</td>\n",
       "      <td>...</td>\n",
       "      <td>...</td>\n",
       "      <td>...</td>\n",
       "      <td>...</td>\n",
       "      <td>...</td>\n",
       "      <td>...</td>\n",
       "      <td>...</td>\n",
       "      <td>...</td>\n",
       "      <td>...</td>\n",
       "      <td>...</td>\n",
       "      <td>...</td>\n",
       "    </tr>\n",
       "    <tr>\n",
       "      <th>TRYYYJB128F930A811</th>\n",
       "      <td>/mnt/dataset_storage/audio/music/MSD/audio/Y/Y...</td>\n",
       "      <td>True</td>\n",
       "      <td>[Jazz]</td>\n",
       "      <td>[Fusion, Post-Bop, Guitar Jazz, Jazz Instrument]</td>\n",
       "      <td>NaN</td>\n",
       "      <td>NaN</td>\n",
       "      <td>True</td>\n",
       "      <td>Rodney Jones</td>\n",
       "      <td>Gaze</td>\n",
       "      <td>When You Feel the Love</td>\n",
       "      <td>2533849.0</td>\n",
       "      <td>True</td>\n",
       "      <td>Jazz</td>\n",
       "      <td>True</td>\n",
       "      <td>False</td>\n",
       "      <td>False</td>\n",
       "    </tr>\n",
       "    <tr>\n",
       "      <th>TRYYYMZ128F42717A8</th>\n",
       "      <td>/mnt/dataset_storage/audio/music/MSD/audio/Y/Y...</td>\n",
       "      <td>True</td>\n",
       "      <td>[Pop/Rock]</td>\n",
       "      <td>[Alternative/Indie Rock, Emo, Punk-Pop]</td>\n",
       "      <td>[Passionate, Brash, Energetic, Rousing, Aggres...</td>\n",
       "      <td>NaN</td>\n",
       "      <td>True</td>\n",
       "      <td>Ace Troubleshooter</td>\n",
       "      <td>Numinous  (Madness Of The Crowd Album Version)</td>\n",
       "      <td>The Madness of the Crowds</td>\n",
       "      <td>2035689.0</td>\n",
       "      <td>True</td>\n",
       "      <td>Pop/Rock</td>\n",
       "      <td>True</td>\n",
       "      <td>False</td>\n",
       "      <td>False</td>\n",
       "    </tr>\n",
       "    <tr>\n",
       "      <th>TRYYYCW128F9320BC3</th>\n",
       "      <td>/mnt/dataset_storage/audio/music/MSD/audio/Y/Y...</td>\n",
       "      <td>True</td>\n",
       "      <td>[Electronic, Pop/Rock]</td>\n",
       "      <td>[Alternative/Indie Rock, Ambient Pop, Adult Al...</td>\n",
       "      <td>[Lush, Reflective, Gentle, Summery, Warm, Drea...</td>\n",
       "      <td>[Hanging Out, Day Driving, Reflection]</td>\n",
       "      <td>True</td>\n",
       "      <td>Zero 7</td>\n",
       "      <td>Futures [Acoustic Version]</td>\n",
       "      <td>The Garden</td>\n",
       "      <td>2519148.0</td>\n",
       "      <td>True</td>\n",
       "      <td>Electronic</td>\n",
       "      <td>True</td>\n",
       "      <td>False</td>\n",
       "      <td>False</td>\n",
       "    </tr>\n",
       "    <tr>\n",
       "      <th>TRYYYJD128F429528C</th>\n",
       "      <td>/mnt/dataset_storage/audio/music/MSD/audio/Y/Y...</td>\n",
       "      <td>True</td>\n",
       "      <td>[Pop/Rock]</td>\n",
       "      <td>[Alternative Metal, Heavy Metal, Post-Grunge]</td>\n",
       "      <td>[Rousing, Tense/Anxious, Volatile, Yearning, E...</td>\n",
       "      <td>[Guys Night Out, Introspection]</td>\n",
       "      <td>True</td>\n",
       "      <td>Blindside</td>\n",
       "      <td>Where The Sun Never Dies (Album Version)</td>\n",
       "      <td>About A Burning Fire</td>\n",
       "      <td>1422327.0</td>\n",
       "      <td>True</td>\n",
       "      <td>Pop/Rock</td>\n",
       "      <td>True</td>\n",
       "      <td>False</td>\n",
       "      <td>False</td>\n",
       "    </tr>\n",
       "    <tr>\n",
       "      <th>TRYYYRG128F9326062</th>\n",
       "      <td>/mnt/dataset_storage/audio/music/MSD/audio/Y/Y...</td>\n",
       "      <td>True</td>\n",
       "      <td>[Pop/Rock]</td>\n",
       "      <td>[Adult Alternative Pop/Rock, Alternative/Indie...</td>\n",
       "      <td>[Reflective, Sad, Brooding, Gentle, Intimate, ...</td>\n",
       "      <td>[Rainy Day, Reflection, Introspection]</td>\n",
       "      <td>True</td>\n",
       "      <td>Imaad Wasif</td>\n",
       "      <td>Tomorrow Is Ours</td>\n",
       "      <td>Imaad Wasif</td>\n",
       "      <td>2559317.0</td>\n",
       "      <td>True</td>\n",
       "      <td>Pop/Rock</td>\n",
       "      <td>True</td>\n",
       "      <td>False</td>\n",
       "      <td>False</td>\n",
       "    </tr>\n",
       "  </tbody>\n",
       "</table>\n",
       "<p>504608 rows × 16 columns</p>\n",
       "</div>"
      ],
      "text/plain": [
       "                                                           audio_path  audio  \\\n",
       "trackid                                                                        \n",
       "TRZZZHL128F423C536  /mnt/dataset_storage/audio/music/MSD/audio/Z/Z...   True   \n",
       "TRZZZWE12903CDD329  /mnt/dataset_storage/audio/music/MSD/audio/Z/Z...   True   \n",
       "TRZZZCL128F428BB80  /mnt/dataset_storage/audio/music/MSD/audio/Z/Z...   True   \n",
       "TRZZZMM128F42819C0  /mnt/dataset_storage/audio/music/MSD/audio/Z/Z...   True   \n",
       "TRZZZGZ128F4292B90  /mnt/dataset_storage/audio/music/MSD/audio/Z/Z...   True   \n",
       "...                                                               ...    ...   \n",
       "TRYYYJB128F930A811  /mnt/dataset_storage/audio/music/MSD/audio/Y/Y...   True   \n",
       "TRYYYMZ128F42717A8  /mnt/dataset_storage/audio/music/MSD/audio/Y/Y...   True   \n",
       "TRYYYCW128F9320BC3  /mnt/dataset_storage/audio/music/MSD/audio/Y/Y...   True   \n",
       "TRYYYJD128F429528C  /mnt/dataset_storage/audio/music/MSD/audio/Y/Y...   True   \n",
       "TRYYYRG128F9326062  /mnt/dataset_storage/audio/music/MSD/audio/Y/Y...   True   \n",
       "\n",
       "                                    genres  \\\n",
       "trackid                                      \n",
       "TRZZZHL128F423C536         [Pop/Rock, R&B]   \n",
       "TRZZZWE12903CDD329            [Electronic]   \n",
       "TRZZZCL128F428BB80              [Pop/Rock]   \n",
       "TRZZZMM128F42819C0              [Pop/Rock]   \n",
       "TRZZZGZ128F4292B90              [Pop/Rock]   \n",
       "...                                    ...   \n",
       "TRYYYJB128F930A811                  [Jazz]   \n",
       "TRYYYMZ128F42717A8              [Pop/Rock]   \n",
       "TRYYYCW128F9320BC3  [Electronic, Pop/Rock]   \n",
       "TRYYYJD128F429528C              [Pop/Rock]   \n",
       "TRYYYRG128F9326062              [Pop/Rock]   \n",
       "\n",
       "                                                               styles  \\\n",
       "trackid                                                                 \n",
       "TRZZZHL128F423C536  [Album Rock, Blue-Eyed Soul, Contemporary Pop/...   \n",
       "TRZZZWE12903CDD329                                     [Funky Breaks]   \n",
       "TRZZZCL128F428BB80  [Alternative/Indie Rock, Post-Hardcore, Goth R...   \n",
       "TRZZZMM128F42819C0                                                NaN   \n",
       "TRZZZGZ128F4292B90  [Adult Alternative Pop/Rock, Alternative/Indie...   \n",
       "...                                                               ...   \n",
       "TRYYYJB128F930A811   [Fusion, Post-Bop, Guitar Jazz, Jazz Instrument]   \n",
       "TRYYYMZ128F42717A8            [Alternative/Indie Rock, Emo, Punk-Pop]   \n",
       "TRYYYCW128F9320BC3  [Alternative/Indie Rock, Ambient Pop, Adult Al...   \n",
       "TRYYYJD128F429528C      [Alternative Metal, Heavy Metal, Post-Grunge]   \n",
       "TRYYYRG128F9326062  [Adult Alternative Pop/Rock, Alternative/Indie...   \n",
       "\n",
       "                                                                moods  \\\n",
       "trackid                                                                 \n",
       "TRZZZHL128F423C536  [Calm/Peaceful, Laid-Back/Mellow, Warm, Elegan...   \n",
       "TRZZZWE12903CDD329  [Gritty, Playful, Laid-Back/Mellow, Trippy, Wh...   \n",
       "TRZZZCL128F428BB80  [Dramatic, Ethereal, Cathartic, Elegant, Enigm...   \n",
       "TRZZZMM128F42819C0                                                NaN   \n",
       "TRZZZGZ128F4292B90  [Slick, Poignant, Bittersweet, Passionate, Liv...   \n",
       "...                                                               ...   \n",
       "TRYYYJB128F930A811                                                NaN   \n",
       "TRYYYMZ128F42717A8  [Passionate, Brash, Energetic, Rousing, Aggres...   \n",
       "TRYYYCW128F9320BC3  [Lush, Reflective, Gentle, Summery, Warm, Drea...   \n",
       "TRYYYJD128F429528C  [Rousing, Tense/Anxious, Volatile, Yearning, E...   \n",
       "TRYYYRG128F9326062  [Reflective, Sad, Brooding, Gentle, Intimate, ...   \n",
       "\n",
       "                                                               themes  tags  \\\n",
       "trackid                                                                       \n",
       "TRZZZHL128F423C536  [Background Music, Comfort, Romantic Evening, ...  True   \n",
       "TRZZZWE12903CDD329                                      [Hanging Out]  True   \n",
       "TRZZZCL128F428BB80  [Late Night, Reflection, Solitude, Heartache, ...  True   \n",
       "TRZZZMM128F42819C0                                                NaN  True   \n",
       "TRZZZGZ128F4292B90         [Day Driving, Girls Night Out, Empowering]  True   \n",
       "...                                                               ...   ...   \n",
       "TRYYYJB128F930A811                                                NaN  True   \n",
       "TRYYYMZ128F42717A8                                                NaN  True   \n",
       "TRYYYCW128F9320BC3             [Hanging Out, Day Driving, Reflection]  True   \n",
       "TRYYYJD128F429528C                    [Guys Night Out, Introspection]  True   \n",
       "TRYYYRG128F9326062             [Rainy Day, Reflection, Introspection]  True   \n",
       "\n",
       "                           artist_name  \\\n",
       "trackid                                  \n",
       "TRZZZHL128F423C536        Van Morrison   \n",
       "TRZZZWE12903CDD329                 NaN   \n",
       "TRZZZCL128F428BB80          I Am Ghost   \n",
       "TRZZZMM128F42819C0                 NaN   \n",
       "TRZZZGZ128F4292B90         Andrea Corr   \n",
       "...                                ...   \n",
       "TRYYYJB128F930A811        Rodney Jones   \n",
       "TRYYYMZ128F42717A8  Ace Troubleshooter   \n",
       "TRYYYCW128F9320BC3              Zero 7   \n",
       "TRYYYJD128F429528C           Blindside   \n",
       "TRYYYRG128F9326062         Imaad Wasif   \n",
       "\n",
       "                                                             title  \\\n",
       "trackid                                                              \n",
       "TRZZZHL128F423C536                      Crazy Love (Album Version)   \n",
       "TRZZZWE12903CDD329                                             NaN   \n",
       "TRZZZCL128F428BB80             The Ship of Pills and Needed Things   \n",
       "TRZZZMM128F42819C0                                             NaN   \n",
       "TRZZZGZ128F4292B90                        24 Hours (Album Version)   \n",
       "...                                                            ...   \n",
       "TRYYYJB128F930A811                                            Gaze   \n",
       "TRYYYMZ128F42717A8  Numinous  (Madness Of The Crowd Album Version)   \n",
       "TRYYYCW128F9320BC3                      Futures [Acoustic Version]   \n",
       "TRYYYJD128F429528C        Where The Sun Never Dies (Album Version)   \n",
       "TRYYYRG128F9326062                                Tomorrow Is Ours   \n",
       "\n",
       "                                      release  lastfm_id reviews  \\\n",
       "trackid                                                            \n",
       "TRZZZHL128F423C536                  Moondance  2028615.0    True   \n",
       "TRZZZWE12903CDD329                        NaN        NaN     NaN   \n",
       "TRZZZCL128F428BB80            Lover's Requiem  3403584.0    True   \n",
       "TRZZZMM128F42819C0                        NaN        NaN     NaN   \n",
       "TRZZZGZ128F4292B90              Ten Feet High  3307948.0    True   \n",
       "...                                       ...        ...     ...   \n",
       "TRYYYJB128F930A811     When You Feel the Love  2533849.0    True   \n",
       "TRYYYMZ128F42717A8  The Madness of the Crowds  2035689.0    True   \n",
       "TRYYYCW128F9320BC3                 The Garden  2519148.0    True   \n",
       "TRYYYJD128F429528C       About A Burning Fire  1422327.0    True   \n",
       "TRYYYRG128F9326062                Imaad Wasif  2559317.0    True   \n",
       "\n",
       "                   genres_flattened  train    val   test  \n",
       "trackid                                                   \n",
       "TRZZZHL128F423C536              R&B   True  False  False  \n",
       "TRZZZWE12903CDD329       Electronic  False  False   True  \n",
       "TRZZZCL128F428BB80         Pop/Rock   True  False  False  \n",
       "TRZZZMM128F42819C0         Pop/Rock  False  False   True  \n",
       "TRZZZGZ128F4292B90         Pop/Rock   True  False  False  \n",
       "...                             ...    ...    ...    ...  \n",
       "TRYYYJB128F930A811             Jazz   True  False  False  \n",
       "TRYYYMZ128F42717A8         Pop/Rock   True  False  False  \n",
       "TRYYYCW128F9320BC3       Electronic   True  False  False  \n",
       "TRYYYJD128F429528C         Pop/Rock   True  False  False  \n",
       "TRYYYRG128F9326062         Pop/Rock   True  False  False  \n",
       "\n",
       "[504608 rows x 16 columns]"
      ]
     },
     "execution_count": 4,
     "metadata": {},
     "output_type": "execute_result"
    }
   ],
   "source": [
    "metadata_final"
   ]
  }
 ],
 "metadata": {
  "kernelspec": {
   "display_name": "base36",
   "language": "python",
   "name": "base36"
  },
  "language_info": {
   "codemirror_mode": {
    "name": "ipython",
    "version": 3
   },
   "file_extension": ".py",
   "mimetype": "text/x-python",
   "name": "python",
   "nbconvert_exporter": "python",
   "pygments_lexer": "ipython3",
   "version": "3.6.10"
  },
  "notify_time": "10",
  "toc": {
   "base_numbering": 1,
   "nav_menu": {},
   "number_sections": true,
   "sideBar": true,
   "skip_h1_title": false,
   "title_cell": "Table of Contents",
   "title_sidebar": "Contents",
   "toc_cell": false,
   "toc_position": {},
   "toc_section_display": true,
   "toc_window_display": false
  }
 },
 "nbformat": 4,
 "nbformat_minor": 4
}
