{
 "cells": [
  {
   "cell_type": "markdown",
   "metadata": {
    "Collapsed": "false"
   },
   "source": [
    "# Configuration"
   ]
  },
  {
   "cell_type": "code",
   "execution_count": 8,
   "metadata": {
    "Collapsed": "false"
   },
   "outputs": [],
   "source": [
    "# directory where MSD audio samples are stored (root directory)\n",
    "MSD_SAMPLE_DIR                      = \"/mnt/dataset_storage/audio/music/MSD/audio/\"\n",
    "\n",
    "# path to \"msd_amglabels_all.h5\" - leave blank to skip\n",
    "MSD_AMG_TAGS_PATH                   = \"/home/schindlera/experiments/representation_from_album_review/data/msd_amglabels_all.h5\"\n",
    "\n",
    "# Album Reviews - leave blank to skip\n",
    "MSD_AMG_REVIEW_TRACKID_MAPPING_PATH = \"/home/schindlera/experiments/representation_from_album_review/data/MSD_AMG_REVIEW_TRACKID_MAPPING.h5\"\n",
    "\n",
    "# directory to store intermediate and final results of the experiment\n",
    "EXPERIMENT_DIR                      = \"/home/schindlera/experiments/ismir2020_reviews/\""
   ]
  },
  {
   "cell_type": "markdown",
   "metadata": {
    "Collapsed": "false"
   },
   "source": [
    "# Imports"
   ]
  },
  {
   "cell_type": "code",
   "execution_count": 9,
   "metadata": {
    "Collapsed": "false",
    "ExecuteTime": {
     "end_time": "2020-03-16T14:22:44.212352Z",
     "start_time": "2020-03-16T14:22:43.374144Z"
    }
   },
   "outputs": [],
   "source": [
    "import os\n",
    "import pandas as pd\n",
    "import numpy as np"
   ]
  },
  {
   "cell_type": "markdown",
   "metadata": {
    "Collapsed": "false"
   },
   "source": [
    "# Load Data"
   ]
  },
  {
   "cell_type": "markdown",
   "metadata": {
    "Collapsed": "false"
   },
   "source": [
    "## Find all MSD audio samples"
   ]
  },
  {
   "cell_type": "code",
   "execution_count": 3,
   "metadata": {
    "Collapsed": "false"
   },
   "outputs": [
    {
     "name": "stdout",
     "output_type": "stream",
     "text": [
      "995000 MSD audio samples found\n"
     ]
    }
   ],
   "source": [
    "sample_fullpaths = []\n",
    "sample_track_ids = []\n",
    "\n",
    "for root, dirs, files in os.walk(MSD_SAMPLE_DIR):\n",
    "    for file in files:\n",
    "        if file.endswith(\".mp3\"):\n",
    "            sample_fullpaths.append(os.path.join(root, file))\n",
    "            sample_track_ids.append(file.replace(\".mp3\", \"\"))\n",
    "\n",
    "metadata_audio          = pd.DataFrame(sample_fullpaths, index=sample_track_ids, columns=[\"audio_path\"])\n",
    "metadata_audio[\"audio\"] = True\n",
    "\n",
    "print(\"%d MSD audio samples found\" % metadata_audio.shape[0])"
   ]
  },
  {
   "cell_type": "markdown",
   "metadata": {
    "Collapsed": "false"
   },
   "source": [
    "## Join with Tagset Data"
   ]
  },
  {
   "cell_type": "code",
   "execution_count": 10,
   "metadata": {
    "Collapsed": "false",
    "ExecuteTime": {
     "end_time": "2020-03-16T14:23:18.072716Z",
     "start_time": "2020-03-16T14:23:15.414717Z"
    }
   },
   "outputs": [
    {
     "name": "stdout",
     "output_type": "stream",
     "text": [
      "Intersection size: 504992\n"
     ]
    }
   ],
   "source": [
    "if os.path.exists(MSD_AMG_TAGS_PATH):\n",
    "\n",
    "    # load labelsets from hdf5 archive\n",
    "    msd_amgtags_all         = pd.read_hdf(MSD_AMG_TAGS_PATH, \"data\")\n",
    "\n",
    "    # only use instances where at least one genre tag is provided\n",
    "    msd_amgtags_all         = msd_amgtags_all[~msd_amgtags_all.genres.isna()]\n",
    "    msd_amgtags_all[\"tags\"] = True\n",
    "\n",
    "    # join with audio metadata\n",
    "    metadata_final          = metadata_audio.join(msd_amgtags_all, how=\"inner\")\n",
    "\n",
    "    print(\"Intersection size: %d\" % metadata_final.shape[0])\n",
    "    \n",
    "else:\n",
    "    \n",
    "    metadata_final = metadata_audio"
   ]
  },
  {
   "cell_type": "markdown",
   "metadata": {
    "Collapsed": "false"
   },
   "source": [
    "## Join with Album Review Dataset"
   ]
  },
  {
   "cell_type": "code",
   "execution_count": 11,
   "metadata": {
    "Collapsed": "false",
    "ExecuteTime": {
     "end_time": "2020-03-16T14:23:18.072716Z",
     "start_time": "2020-03-16T14:23:15.414717Z"
    }
   },
   "outputs": [
    {
     "name": "stdout",
     "output_type": "stream",
     "text": [
      "Intersection size: 504992\n"
     ]
    }
   ],
   "source": [
    "if os.path.exists(MSD_AMG_REVIEW_TRACKID_MAPPING_PATH):\n",
    "\n",
    "    MSD_lastfmid_trackid_mapping            = pd.read_hdf(MSD_AMG_REVIEW_TRACKID_MAPPING_PATH, \"data\")\n",
    "    MSD_lastfmid_trackid_mapping            = MSD_lastfmid_trackid_mapping.set_index(\"track_id\")\n",
    "    MSD_lastfmid_trackid_mapping[\"reviews\"] = True\n",
    "\n",
    "    metadata_final = metadata_final.join(MSD_lastfmid_trackid_mapping, how=\"left\")\n",
    "\n",
    "    print(\"Intersection size: %d\" % metadata_final.shape[0])"
   ]
  },
  {
   "cell_type": "markdown",
   "metadata": {
    "Collapsed": "false"
   },
   "source": [
    "# Store Data"
   ]
  },
  {
   "cell_type": "markdown",
   "metadata": {
    "Collapsed": "false"
   },
   "source": [
    "Store Metadata"
   ]
  },
  {
   "cell_type": "code",
   "execution_count": 12,
   "metadata": {
    "Collapsed": "false"
   },
   "outputs": [
    {
     "name": "stderr",
     "output_type": "stream",
     "text": [
      "/home/schindlera/.conda/envs/base36/lib/python3.6/site-packages/pandas/core/generic.py:2505: PerformanceWarning: \n",
      "your performance may suffer as PyTables will pickle object types that it cannot\n",
      "map directly to c-types [inferred_type->mixed,key->block2_values] [items->Index(['audio_path', 'genres', 'styles', 'moods', 'themes', 'artist_name',\n",
      "       'title', 'release', 'reviews'],\n",
      "      dtype='object')]\n",
      "\n",
      "  encoding=encoding,\n"
     ]
    }
   ],
   "source": [
    "metadata_final.to_hdf(EXPERIMENT_DIR + \"/experiment_partition.h5\", \"data\")"
   ]
  },
  {
   "cell_type": "markdown",
   "metadata": {
    "Collapsed": "false"
   },
   "source": [
    "Store trackids for feature extraction"
   ]
  },
  {
   "cell_type": "code",
   "execution_count": 13,
   "metadata": {
    "Collapsed": "false"
   },
   "outputs": [],
   "source": [
    "metadata_final.reset_index()[[\"index\",\"audio_path\"]].to_csv(EXPERIMENT_DIR + \"/eval_trackids.csv\", header=None, index=None)"
   ]
  },
  {
   "cell_type": "code",
   "execution_count": null,
   "metadata": {
    "Collapsed": "false"
   },
   "outputs": [],
   "source": []
  }
 ],
 "metadata": {
  "kernelspec": {
   "display_name": "Python 3",
   "language": "python",
   "name": "python3"
  },
  "language_info": {
   "codemirror_mode": {
    "name": "ipython",
    "version": 3
   },
   "file_extension": ".py",
   "mimetype": "text/x-python",
   "name": "python",
   "nbconvert_exporter": "python",
   "pygments_lexer": "ipython3",
   "version": "3.6.10"
  },
  "notify_time": "10",
  "toc": {
   "base_numbering": 1,
   "nav_menu": {},
   "number_sections": true,
   "sideBar": true,
   "skip_h1_title": false,
   "title_cell": "Table of Contents",
   "title_sidebar": "Contents",
   "toc_cell": false,
   "toc_position": {},
   "toc_section_display": true,
   "toc_window_display": false
  }
 },
 "nbformat": 4,
 "nbformat_minor": 4
}
